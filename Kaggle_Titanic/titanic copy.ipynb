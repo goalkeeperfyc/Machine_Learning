{
 "cells": [
  {
   "cell_type": "code",
   "execution_count": 68,
   "metadata": {},
   "outputs": [],
   "source": [
    "import numpy as np # linear algebra\n",
    "import pandas as pd # data processing, CSV file I/O (e.g. pd.read_csv)\n",
    "\n",
    "# Input data files are available in the \"../input/\" directory.\n",
    "# For example, running this (by clicking run or pressing Shift+Enter) will list the files in the input directory\n",
    "\n",
    "import os\n",
    "import sklearn\n",
    "\n",
    "import seaborn as sns\n",
    "import matplotlib.pyplot as plt\n",
    "from xgboost import XGBClassifier\n",
    "from matplotlib.ticker import StrMethodFormatter\n",
    "\n",
    "#import sklearn libraries\n",
    "from sklearn.model_selection import train_test_split, GridSearchCV, StratifiedKFold, cross_val_score, cross_validate\n",
    "from sklearn.metrics import accuracy_score, precision_score, recall_score, auc, make_scorer, confusion_matrix, f1_score, fbeta_score\n",
    "from sklearn.metrics import roc_curve, precision_recall_curve\n",
    "from sklearn.preprocessing import StandardScaler, MinMaxScaler, LabelBinarizer\n",
    "#import different methods\n",
    "from sklearn.naive_bayes import MultinomialNB\n",
    "from sklearn.ensemble import BaggingClassifier, RandomForestClassifier, AdaBoostClassifier, GradientBoostingClassifier\n",
    "from sklearn.linear_model import LogisticRegression\n",
    "from sklearn.tree import DecisionTreeClassifier\n",
    "from sklearn import svm"
   ]
  },
  {
   "cell_type": "code",
   "execution_count": 94,
   "metadata": {},
   "outputs": [
    {
     "ename": "ModuleNotFoundError",
     "evalue": "No module named 'statsmodels'",
     "output_type": "error",
     "traceback": [
      "\u001b[0;31m---------------------------------------------------------------------------\u001b[0m",
      "\u001b[0;31mModuleNotFoundError\u001b[0m                       Traceback (most recent call last)",
      "\u001b[0;32m<ipython-input-94-128c41eeacad>\u001b[0m in \u001b[0;36m<module>\u001b[0;34m\u001b[0m\n\u001b[1;32m      1\u001b[0m \u001b[0;31m# static module\u001b[0m\u001b[0;34m\u001b[0m\u001b[0;34m\u001b[0m\u001b[0;34m\u001b[0m\u001b[0m\n\u001b[1;32m      2\u001b[0m \u001b[0;32mimport\u001b[0m \u001b[0mscipy\u001b[0m\u001b[0;34m\u001b[0m\u001b[0;34m\u001b[0m\u001b[0m\n\u001b[0;32m----> 3\u001b[0;31m \u001b[0;32mimport\u001b[0m \u001b[0mstatsmodels\u001b[0m\u001b[0;34m\u001b[0m\u001b[0;34m\u001b[0m\u001b[0m\n\u001b[0m",
      "\u001b[0;31mModuleNotFoundError\u001b[0m: No module named 'statsmodels'"
     ]
    }
   ],
   "source": [
    "# static module\n",
    "import scipy\n",
    "from statsmodels.formula.api import ols\n",
    "from statsmodels.stats.anova import anova_lm\n",
    "from statsmodels.stats.multicomp import pairwise_tukeyhsd\n",
    "import itertools\n",
    "import warnings \n",
    "warnings.filterwarnings(\"ignore\")"
   ]
  },
  {
   "cell_type": "code",
   "execution_count": 69,
   "metadata": {},
   "outputs": [
    {
     "data": {
      "text/plain": [
       "'0.20.3'"
      ]
     },
     "execution_count": 69,
     "metadata": {},
     "output_type": "execute_result"
    }
   ],
   "source": [
    "sklearn.__version__"
   ]
  },
  {
   "cell_type": "code",
   "execution_count": 88,
   "metadata": {},
   "outputs": [
    {
     "name": "stdout",
     "output_type": "stream",
     "text": [
      "<class 'pandas.core.frame.DataFrame'>\n",
      "RangeIndex: 891 entries, 0 to 890\n",
      "Data columns (total 12 columns):\n",
      "PassengerId    891 non-null int64\n",
      "Survived       891 non-null int64\n",
      "Pclass         891 non-null int64\n",
      "Name           891 non-null object\n",
      "Sex            891 non-null object\n",
      "Age            714 non-null float64\n",
      "SibSp          891 non-null int64\n",
      "Parch          891 non-null int64\n",
      "Ticket         891 non-null object\n",
      "Fare           891 non-null float64\n",
      "Cabin          204 non-null object\n",
      "Embarked       889 non-null object\n",
      "dtypes: float64(2), int64(5), object(5)\n",
      "memory usage: 83.6+ KB\n",
      "<class 'pandas.core.frame.DataFrame'>\n",
      "RangeIndex: 418 entries, 0 to 417\n",
      "Data columns (total 11 columns):\n",
      "PassengerId    418 non-null int64\n",
      "Pclass         418 non-null int64\n",
      "Name           418 non-null object\n",
      "Sex            418 non-null object\n",
      "Age            332 non-null float64\n",
      "SibSp          418 non-null int64\n",
      "Parch          418 non-null int64\n",
      "Ticket         418 non-null object\n",
      "Fare           417 non-null float64\n",
      "Cabin          91 non-null object\n",
      "Embarked       418 non-null object\n",
      "dtypes: float64(2), int64(4), object(5)\n",
      "memory usage: 36.0+ KB\n"
     ]
    }
   ],
   "source": [
    "train_df = pd.read_csv(\"train.csv\")\n",
    "test_df = pd.read_csv(\"test.csv\")\n",
    "train_df.info()\n",
    "test_df.info()"
   ]
  },
  {
   "cell_type": "code",
   "execution_count": 89,
   "metadata": {},
   "outputs": [
    {
     "data": {
      "text/plain": [
       "<matplotlib.axes._subplots.AxesSubplot at 0x1a1bc402b0>"
      ]
     },
     "execution_count": 89,
     "metadata": {},
     "output_type": "execute_result"
    },
    {
     "data": {
      "image/png": "[encoded data removed]",
      "text/plain": [
       "<Figure size 432x288 with 1 Axes>"
      ]
     },
     "metadata": {},
     "output_type": "display_data"
    }
   ],
   "source": [
    "### explore data\n",
    "## under the help of seaborn\n",
    "# survive & embarked\n",
    "sns.set(style='darkgrid')\n",
    "sns.countplot(x='Survived', data=train_df, hue='Embarked', palette='Set1')"
   ]
  },
  {
   "cell_type": "code",
   "execution_count": 90,
   "metadata": {},
   "outputs": [
    {
     "data": {
      "text/plain": [
       "<matplotlib.axes._subplots.AxesSubplot at 0x1a1bc40da0>"
      ]
     },
     "execution_count": 90,
     "metadata": {},
     "output_type": "execute_result"
    },
    {
     "data": {
      "image/png": "[encoded data removed]",
      "text/plain": [
       "<Figure size 432x288 with 1 Axes>"
      ]
     },
     "metadata": {},
     "output_type": "display_data"
    }
   ],
   "source": [
    "# survive & Pclass\n",
    "sns.set(style='darkgrid')\n",
    "sns.countplot(x='Survived', data=train_df, hue='Pclass', palette='Set1')"
   ]
  },
  {
   "cell_type": "code",
   "execution_count": 91,
   "metadata": {},
   "outputs": [
    {
     "data": {
      "text/plain": [
       "<matplotlib.axes._subplots.AxesSubplot at 0x1a1bd6ec18>"
      ]
     },
     "execution_count": 91,
     "metadata": {},
     "output_type": "execute_result"
    },
    {
     "data": {
      "image/png": "[encoded data removed]",
      "text/plain": [
       "<Figure size 432x288 with 1 Axes>"
      ]
     },
     "metadata": {},
     "output_type": "display_data"
    }
   ],
   "source": [
    "# survive & Pclass\n",
    "sns.set(style='darkgrid')\n",
    "sns.countplot(x='Survived', data=train_df, hue='Sex', palette='Set1')"
   ]
  },
  {
   "cell_type": "code",
   "execution_count": 107,
   "metadata": {},
   "outputs": [
    {
     "data": {
      "image/png": "[encoded data removed]",
      "text/plain": [
       "<Figure size 1152x576 with 2 Axes>"
      ]
     },
     "metadata": {},
     "output_type": "display_data"
    }
   ],
   "source": [
    "# survive & age\n",
    "survived = 'survived'\n",
    "not_survived = 'not survived'\n",
    "fig, axes = plt.subplots(nrows=1, ncols=2, figsize=(16, 8))\n",
    "ax = sns.distplot(train_df[train_df['Survived']==1].Age.dropna(), bins=18, label = survived, ax = axes[0], kde=False, color='green')\n",
    "ax = sns.distplot(train_df[train_df['Survived']==0].Age.dropna(), bins=18, label = not_survived, ax = axes[0], kde=False, color='red')"
   ]
  },
  {
   "cell_type": "code",
   "execution_count": 102,
   "metadata": {},
   "outputs": [
    {
     "data": {
      "text/plain": [
       "<matplotlib.axes._subplots.AxesSubplot at 0x1a1e069208>"
      ]
     },
     "execution_count": 102,
     "metadata": {},
     "output_type": "execute_result"
    }
   ],
   "source": [
    "sns.distplot(women[women['Survived']==1].Age.dropna(), bins=18, label = survived, ax = axes[0], kde=False, color='green')"
   ]
  },
  {
   "cell_type": "code",
   "execution_count": 98,
   "metadata": {},
   "outputs": [
    {
     "data": {
      "text/plain": [
       "<matplotlib.axes._subplots.AxesSubplot at 0x1a1d7e7438>"
      ]
     },
     "execution_count": 98,
     "metadata": {},
     "output_type": "execute_result"
    },
    {
     "data": {
      "image/png": "[encoded data removed]",
      "text/plain": [
       "<Figure size 432x288 with 1 Axes>"
      ]
     },
     "metadata": {},
     "output_type": "display_data"
    }
   ],
   "source": [
    "# survive & Pclass\n",
    "sns.set(style='darkgrid')\n",
    "sns.distplot(x='Survived', data=train_df, hue='Sex', palette='Set1')"
   ]
  },
  {
   "cell_type": "code",
   "execution_count": 31,
   "metadata": {},
   "outputs": [
    {
     "name": "stdout",
     "output_type": "stream",
     "text": [
      "<class 'pandas.core.frame.DataFrame'>\n",
      "RangeIndex: 891 entries, 0 to 890\n",
      "Data columns (total 12 columns):\n",
      "PassengerId    891 non-null int64\n",
      "Survived       891 non-null int64\n",
      "Pclass         891 non-null int64\n",
      "Name           891 non-null object\n",
      "Sex            891 non-null object\n",
      "Age            714 non-null float64\n",
      "SibSp          891 non-null int64\n",
      "Parch          891 non-null int64\n",
      "Ticket         891 non-null object\n",
      "Fare           891 non-null float64\n",
      "Cabin          204 non-null object\n",
      "Embarked       889 non-null object\n",
      "dtypes: float64(2), int64(5), object(5)\n",
      "memory usage: 83.6+ KB\n"
     ]
    }
   ],
   "source": [
    "train_df.info()"
   ]
  },
  {
   "cell_type": "code",
   "execution_count": 35,
   "metadata": {},
   "outputs": [
    {
     "name": "stdout",
     "output_type": "stream",
     "text": [
      "<class 'pandas.core.frame.DataFrame'>\n",
      "RangeIndex: 891 entries, 0 to 890\n",
      "Data columns (total 11 columns):\n",
      "PassengerId      891 non-null int64\n",
      "Survived         891 non-null int64\n",
      "Pclass           891 non-null int64\n",
      "Sex              891 non-null object\n",
      "Age              714 non-null float64\n",
      "SibSp            891 non-null int64\n",
      "Parch            891 non-null int64\n",
      "Fare             891 non-null float64\n",
      "Embarked         889 non-null object\n",
      "gender           891 non-null int64\n",
      "embarked_code    891 non-null int64\n",
      "dtypes: float64(2), int64(7), object(2)\n",
      "memory usage: 76.6+ KB\n"
     ]
    }
   ],
   "source": [
    "# clean data\n",
    "\n",
    "# trans string sex to integer\n",
    "def trans_sex(sex):\n",
    "    if sex == \"male\":\n",
    "        return 1\n",
    "    else:\n",
    "        return 2\n",
    "train_df[\"gender\"] = train_df[\"Sex\"].apply(lambda x: trans_sex(x))\n",
    "test_df[\"gender\"] = test_df[\"Sex\"].apply(lambda x: trans_sex(x))\n",
    "# print(train_df[\"gender\"])\n",
    "\n",
    "# del the Name\n",
    "del train_df[\"Name\"]\n",
    "del test_df[\"Name\"]\n",
    "\n",
    "# del the Ticket, because I don't know what is it\n",
    "del train_df[\"Ticket\"]\n",
    "del test_df[\"Ticket\"]\n",
    "\n",
    "# del the variable cabin\n",
    "del train_df[\"Cabin\"]\n",
    "del test_df[\"Cabin\"]\n",
    "\n",
    "# trans embarked\n",
    "def trans_embarked(embarked):\n",
    "    if embarked == \"S\":\n",
    "        return 1\n",
    "    elif embarked == \"C\":\n",
    "        return 2\n",
    "    else:\n",
    "        return 3\n",
    "\n",
    "train_df[\"embarked_code\"] = train_df[\"Embarked\"].apply(lambda x: trans_embarked(x))\n",
    "test_df[\"embarked_code\"] = test_df[\"Embarked\"].apply(lambda x: trans_embarked(x))\n",
    "\n",
    "train_df.info()"
   ]
  },
  {
   "cell_type": "code",
   "execution_count": 36,
   "metadata": {},
   "outputs": [
    {
     "ename": "NameError",
     "evalue": "name 'trans_df' is not defined",
     "output_type": "error",
     "traceback": [
      "\u001b[0;31m---------------------------------------------------------------------------\u001b[0m",
      "\u001b[0;31mNameError\u001b[0m                                 Traceback (most recent call last)",
      "\u001b[0;32m<ipython-input-36-eea19ebce0e4>\u001b[0m in \u001b[0;36m<module>\u001b[0;34m\u001b[0m\n\u001b[1;32m      1\u001b[0m \u001b[0;31m# del two trans variables\u001b[0m\u001b[0;34m\u001b[0m\u001b[0;34m\u001b[0m\u001b[0;34m\u001b[0m\u001b[0m\n\u001b[0;32m----> 2\u001b[0;31m \u001b[0;32mdel\u001b[0m \u001b[0mtrans_df\u001b[0m\u001b[0;34m[\u001b[0m\u001b[0;34m\"Sex\"\u001b[0m\u001b[0;34m]\u001b[0m\u001b[0;34m\u001b[0m\u001b[0;34m\u001b[0m\u001b[0m\n\u001b[0m\u001b[1;32m      3\u001b[0m \u001b[0;32mdel\u001b[0m \u001b[0mtrans_df\u001b[0m\u001b[0;34m[\u001b[0m\u001b[0;34m\"Embarked\"\u001b[0m\u001b[0;34m]\u001b[0m\u001b[0;34m\u001b[0m\u001b[0;34m\u001b[0m\u001b[0m\n\u001b[1;32m      4\u001b[0m \u001b[0;34m\u001b[0m\u001b[0m\n\u001b[1;32m      5\u001b[0m \u001b[0;32mdel\u001b[0m \u001b[0mtest_df\u001b[0m\u001b[0;34m[\u001b[0m\u001b[0;34m\"Sex\"\u001b[0m\u001b[0;34m]\u001b[0m\u001b[0;34m\u001b[0m\u001b[0;34m\u001b[0m\u001b[0m\n",
      "\u001b[0;31mNameError\u001b[0m: name 'trans_df' is not defined"
     ]
    }
   ],
   "source": [
    "# del two trans variables\n",
    "del train_df[\"Sex\"]\n",
    "del train_df[\"Embarked\"]\n",
    "\n",
    "del test_df[\"Sex\"]\n",
    "del test_df[\"Embarked\"]"
   ]
  },
  {
   "cell_type": "code",
   "execution_count": 39,
   "metadata": {},
   "outputs": [],
   "source": [
    "# set index\n",
    "train_df = train_df.set_index(\"PassengerId\")\n",
    "test_df = test_df.set_index(\"PassengerId\")"
   ]
  },
  {
   "cell_type": "code",
   "execution_count": 49,
   "metadata": {},
   "outputs": [
    {
     "name": "stdout",
     "output_type": "stream",
     "text": [
      "<class 'pandas.core.frame.DataFrame'>\n",
      "Int64Index: 891 entries, 1 to 891\n",
      "Data columns (total 8 columns):\n",
      "Survived         891 non-null int64\n",
      "Pclass           891 non-null int64\n",
      "Age              891 non-null float64\n",
      "SibSp            891 non-null int64\n",
      "Parch            891 non-null int64\n",
      "Fare             891 non-null float64\n",
      "gender           891 non-null int64\n",
      "embarked_code    891 non-null int64\n",
      "dtypes: float64(2), int64(6)\n",
      "memory usage: 62.6 KB\n",
      "<class 'pandas.core.frame.DataFrame'>\n",
      "Int64Index: 418 entries, 892 to 1309\n",
      "Data columns (total 9 columns):\n",
      "Pclass           418 non-null int64\n",
      "Sex              418 non-null object\n",
      "Age              418 non-null float64\n",
      "SibSp            418 non-null int64\n",
      "Parch            418 non-null int64\n",
      "Fare             418 non-null float64\n",
      "Embarked         418 non-null object\n",
      "gender           418 non-null int64\n",
      "embarked_code    418 non-null int64\n",
      "dtypes: float64(2), int64(5), object(2)\n",
      "memory usage: 32.7+ KB\n"
     ]
    }
   ],
   "source": [
    "train_df.info()\n",
    "test_df.info()"
   ]
  },
  {
   "cell_type": "code",
   "execution_count": 47,
   "metadata": {},
   "outputs": [],
   "source": [
    "# fill nan value\n",
    "train_df = train_df.fillna(99)\n",
    "test_df =test_df.fillna(99)"
   ]
  },
  {
   "cell_type": "code",
   "execution_count": 52,
   "metadata": {},
   "outputs": [],
   "source": [
    "train, test = train_test_split(train_df)"
   ]
  },
  {
   "cell_type": "code",
   "execution_count": 53,
   "metadata": {},
   "outputs": [],
   "source": [
    "y_train = train[\"Survived\"]\n",
    "y_test = test[\"Survived\"]\n",
    "\n",
    "X_train = train\n",
    "del X_train[\"Survived\"]\n",
    "\n",
    "X_test = test\n",
    "del X_test[\"Survived\"]"
   ]
  },
  {
   "cell_type": "code",
   "execution_count": 66,
   "metadata": {},
   "outputs": [
    {
     "name": "stdout",
     "output_type": "stream",
     "text": [
      "The pred_score at default parameter is 0.7892376681614349\n",
      "Index(['Pclass', 'Age', 'SibSp', 'Parch', 'Fare', 'gender', 'embarked_code'], dtype='object')\n",
      "coefficient: [-1.1119491581657275, -0.008143399703237507, -0.14255952076880443, -0.06398796189364012, 0.00028737823448438154, 2.6461000090561835, 0.33551728511846435]\n"
     ]
    },
    {
     "name": "stderr",
     "output_type": "stream",
     "text": [
      "/Applications/anaconda3/lib/python3.6/site-packages/sklearn/linear_model/logistic.py:433: FutureWarning: Default solver will be changed to 'lbfgs' in 0.22. Specify a solver to silence this warning.\n",
      "  FutureWarning)\n"
     ]
    }
   ],
   "source": [
    "### Logistic Regression\n",
    "# default parameter\n",
    "\n",
    "lg = LogisticRegression().fit(X_train, y_train)\n",
    "y_pred_1 = lg.predict(X_test)\n",
    "pred_score = lg.score(X_test, y_test)\n",
    "print(\"The pred_score at default parameter is %s\" % pred_score)\n",
    "coef_1_list = lg.coef_.tolist()[0]\n",
    "print(X_train.columns)\n",
    "print(\"coefficient: %s\" % coef_1_list)"
   ]
  },
  {
   "cell_type": "code",
   "execution_count": 65,
   "metadata": {},
   "outputs": [
    {
     "data": {
      "text/plain": [
       "Index(['Pclass', 'Age', 'SibSp', 'Parch', 'Fare', 'gender', 'embarked_code'], dtype='object')"
      ]
     },
     "execution_count": 65,
     "metadata": {},
     "output_type": "execute_result"
    }
   ],
   "source": [
    "# What we knew is that female (gender = 2) and young children were most likely survived"
   ]
  },
  {
   "cell_type": "code",
   "execution_count": 67,
   "metadata": {},
   "outputs": [
    {
     "name": "stdout",
     "output_type": "stream",
     "text": [
      "The C: 0.01, the pred_score: 0.6860986547085202\n",
      "Index(['Pclass', 'Age', 'SibSp', 'Parch', 'Fare', 'gender', 'embarked_code'], dtype='object')\n",
      "coefficient: [-0.44194224762338935, -0.008979868001736556, -0.09046072653756604, 0.01722651130837276, 0.007044831918188044, 0.492504863342369, 0.09727622750632647]\n",
      "The C: 0.1, the pred_score: 0.7488789237668162\n",
      "Index(['Pclass', 'Age', 'SibSp', 'Parch', 'Fare', 'gender', 'embarked_code'], dtype='object')\n",
      "coefficient: [-0.9930379433640388, -0.009197960757383347, -0.11854699658663181, 0.0058478783707549414, 0.0001484062714917378, 1.7471661275960393, 0.24899385972685675]\n",
      "The C: 1, the pred_score: 0.7892376681614349\n",
      "Index(['Pclass', 'Age', 'SibSp', 'Parch', 'Fare', 'gender', 'embarked_code'], dtype='object')\n",
      "coefficient: [-1.1119491581657275, -0.008143399703237507, -0.14255952076880443, -0.06398796189364012, 0.00028737823448438154, 2.6461000090561835, 0.33551728511846435]\n",
      "The C: 10, the pred_score: 0.7892376681614349\n",
      "Index(['Pclass', 'Age', 'SibSp', 'Parch', 'Fare', 'gender', 'embarked_code'], dtype='object')\n",
      "coefficient: [-1.096227596951765, -0.007540916232963762, -0.15007433579516247, -0.08506291027620744, 0.0009991320631677666, 2.8549169872227043, 0.3659767752060657]\n",
      "The C: 100, the pred_score: 0.7892376681614349\n",
      "Index(['Pclass', 'Age', 'SibSp', 'Parch', 'Fare', 'gender', 'embarked_code'], dtype='object')\n",
      "coefficient: [-1.0931442887647433, -0.007460257724908959, -0.15103854536531808, -0.08763301891211542, 0.001102101462466083, 2.879271614469121, 0.36992758000157516]\n"
     ]
    },
    {
     "name": "stderr",
     "output_type": "stream",
     "text": [
      "/Applications/anaconda3/lib/python3.6/site-packages/sklearn/linear_model/logistic.py:433: FutureWarning: Default solver will be changed to 'lbfgs' in 0.22. Specify a solver to silence this warning.\n",
      "  FutureWarning)\n",
      "/Applications/anaconda3/lib/python3.6/site-packages/sklearn/linear_model/logistic.py:433: FutureWarning: Default solver will be changed to 'lbfgs' in 0.22. Specify a solver to silence this warning.\n",
      "  FutureWarning)\n",
      "/Applications/anaconda3/lib/python3.6/site-packages/sklearn/linear_model/logistic.py:433: FutureWarning: Default solver will be changed to 'lbfgs' in 0.22. Specify a solver to silence this warning.\n",
      "  FutureWarning)\n",
      "/Applications/anaconda3/lib/python3.6/site-packages/sklearn/linear_model/logistic.py:433: FutureWarning: Default solver will be changed to 'lbfgs' in 0.22. Specify a solver to silence this warning.\n",
      "  FutureWarning)\n",
      "/Applications/anaconda3/lib/python3.6/site-packages/sklearn/linear_model/logistic.py:433: FutureWarning: Default solver will be changed to 'lbfgs' in 0.22. Specify a solver to silence this warning.\n",
      "  FutureWarning)\n"
     ]
    }
   ],
   "source": [
    "### Logistic Regression\n",
    "## parameter\n",
    "# C: float, default 1. Smaller C, stronger regularization\n",
    "# penalty: l1, l2(default)\n",
    "# solver: newton-cg, lbfgs, liblinear(default), sag, saga\n",
    "C_list = [0.01, 0.1, 1, 10, 100] \n",
    "for c in C_list:\n",
    "    lg = LogisticRegression(C=c, solver=\"liblinear\").fit(X_train, y_train)\n",
    "    # y_pred = lg.predict(X_test)\n",
    "    pred_score = lg.score(X_test, y_test)\n",
    "    print(\"The C: %s, the pred_score: %s\" % (c, pred_score))\n",
    "    coef_1_list = lg.coef_.tolist()[0]\n",
    "    print(X_train.columns)\n",
    "    print(\"coefficient: %s\" % coef_1_list)"
   ]
  },
  {
   "cell_type": "code",
   "execution_count": 84,
   "metadata": {},
   "outputs": [],
   "source": [
    "### variable age has lots of missing value, try to ignore them\n",
    "\n",
    "## read data\n",
    "train_df2 = pd.read_csv(\"train.csv\")\n",
    "test_df2 = pd.read_csv(\"test.csv\")\n",
    "\n",
    "## clean data\n",
    "# trans string sex to integer\n",
    "train_df2[\"gender\"] = train_df2[\"Sex\"].apply(lambda x: trans_sex(x))\n",
    "test_df2[\"gender\"] = test_df2[\"Sex\"].apply(lambda x: trans_sex(x))\n",
    "\n",
    "# delete variable age\n",
    "del train_df2[\"Age\"]\n",
    "del test_df2[\"Age\"]\n",
    "\n",
    "# fill nan value with 0\n",
    "train_df2 = train_df2.fillna(0)\n",
    "test_df2 = test_df2.fillna(0)\n",
    "\n",
    "# del the Name\n",
    "del train_df2[\"Name\"]\n",
    "del test_df2[\"Name\"]\n",
    "\n",
    "# del the Ticket, because I don't know what is it\n",
    "del train_df2[\"Ticket\"]\n",
    "del test_df2[\"Ticket\"]\n",
    "\n",
    "# del the variable cabin\n",
    "del train_df2[\"Cabin\"]\n",
    "del test_df2[\"Cabin\"]\n",
    "\n",
    "# trans embarked\n",
    "train_df2[\"embarked_code\"] = train_df2[\"Embarked\"].apply(lambda x: trans_embarked(x))\n",
    "test_df2[\"embarked_code\"] = test_df2[\"Embarked\"].apply(lambda x: trans_embarked(x))\n",
    "\n",
    "# del two trans variables\n",
    "del train_df2[\"Sex\"]\n",
    "del train_df2[\"Embarked\"]\n",
    "\n",
    "del test_df2[\"Sex\"]\n",
    "del test_df2[\"Embarked\"]\n",
    "\n",
    "# set index\n",
    "train_df2 = train_df2.set_index(\"PassengerId\")\n",
    "test_df2 = test_df2.set_index(\"PassengerId\")\n",
    "\n",
    "train, test = train_test_split(train_df2)\n",
    "\n",
    "y_train2 = train[\"Survived\"]\n",
    "y_test2 = test[\"Survived\"]\n",
    "\n",
    "X_train2 = train\n",
    "del X_train2[\"Survived\"]\n",
    "\n",
    "X_test2 = test\n",
    "del X_test2[\"Survived\"]"
   ]
  },
  {
   "cell_type": "code",
   "execution_count": 85,
   "metadata": {},
   "outputs": [
    {
     "name": "stdout",
     "output_type": "stream",
     "text": [
      "The C: 0.01, the pred_score: 0.7040358744394619\n",
      "Index(['Pclass', 'SibSp', 'Parch', 'Fare', 'gender', 'embarked_code'], dtype='object')\n",
      "coefficient: [-0.45782728907276266, -0.1001509212308935, 0.03870586090112615, 0.006572669986584973, 0.4587768658172195, -0.005062589516582954]\n",
      "The C: 0.1, the pred_score: 0.7757847533632287\n",
      "Index(['Pclass', 'SibSp', 'Parch', 'Fare', 'gender', 'embarked_code'], dtype='object')\n",
      "coefficient: [-0.8839779351502687, -0.16804602786655637, 0.04758671432246214, 0.0014431111581316137, 1.6725737375516576, 0.011829850228773305]\n",
      "The C: 1, the pred_score: 0.7937219730941704\n",
      "Index(['Pclass', 'SibSp', 'Parch', 'Fare', 'gender', 'embarked_code'], dtype='object')\n",
      "coefficient: [-0.8985538099595541, -0.23675213155158498, -0.030476518946157313, 0.0025469090446379964, 2.54285228013227, 0.05980520573244905]\n",
      "The C: 10, the pred_score: 0.7937219730941704\n",
      "Index(['Pclass', 'SibSp', 'Parch', 'Fare', 'gender', 'embarked_code'], dtype='object')\n",
      "coefficient: [-0.8647917147282471, -0.2555054532993936, -0.05567061155272548, 0.0033284106870290885, 2.7434276393022055, 0.08863799985169003]\n",
      "The C: 100, the pred_score: 0.7937219730941704\n",
      "Index(['Pclass', 'SibSp', 'Parch', 'Fare', 'gender', 'embarked_code'], dtype='object')\n",
      "coefficient: [-0.8599459132409901, -0.25778908201182676, -0.058829399152679096, 0.003434363725184654, 2.7670848260681082, 0.09254914158295881]\n"
     ]
    }
   ],
   "source": [
    "# use dataset2\n",
    "C_list = [0.01, 0.1, 1, 10, 100] \n",
    "for c in C_list:\n",
    "    lg = LogisticRegression(C=c, solver=\"liblinear\").fit(X_train2, y_train2)\n",
    "    # y_pred = lg.predict(X_test)\n",
    "    pred_score = lg.score(X_test2, y_test2)\n",
    "    print(\"The C: %s, the pred_score: %s\" % (c, pred_score))\n",
    "    coef_list = lg.coef_.tolist()[0]\n",
    "    print(X_train2.columns)\n",
    "    print(\"coefficient: %s\" % coef_list)"
   ]
  },
  {
   "cell_type": "code",
   "execution_count": 82,
   "metadata": {},
   "outputs": [],
   "source": [
    "### variable age has lots of missing value, delete it\n",
    "\n",
    "## read data\n",
    "train_df3 = pd.read_csv(\"train.csv\")\n",
    "test_df3 = pd.read_csv(\"test.csv\")\n",
    "\n",
    "## clean data\n",
    "# trans string sex to integer\n",
    "train_df3[\"gender\"] = train_df3[\"Sex\"].apply(lambda x: trans_sex(x))\n",
    "test_df3[\"gender\"] = test_df3[\"Sex\"].apply(lambda x: trans_sex(x))\n",
    "\n",
    "# delete variable age\n",
    "del train_df3[\"Age\"]\n",
    "del test_df3[\"Age\"]\n",
    "\n",
    "# fill nan value with 0\n",
    "train_df3 = train_df3.fillna(0)\n",
    "test_df3 = test_df3.fillna(0)\n",
    "\n",
    "# del the Name\n",
    "del train_df3[\"Name\"]\n",
    "del test_df3[\"Name\"]\n",
    "\n",
    "# del the Ticket, because I don't know what is it\n",
    "del train_df3[\"Ticket\"]\n",
    "del test_df3[\"Ticket\"]\n",
    "\n",
    "# del the variable cabin\n",
    "del train_df3[\"Cabin\"]\n",
    "del test_df3[\"Cabin\"]\n",
    "\n",
    "# trans embarked\n",
    "train_df3[\"embarked_code\"] = train_df3[\"Embarked\"].apply(lambda x: trans_embarked(x))\n",
    "test_df3[\"embarked_code\"] = test_df3[\"Embarked\"].apply(lambda x: trans_embarked(x))\n",
    "\n",
    "# del two trans variables\n",
    "del train_df3[\"Sex\"]\n",
    "del train_df3[\"Embarked\"]\n",
    "\n",
    "del test_df3[\"Sex\"]\n",
    "del test_df3[\"Embarked\"]\n",
    "\n",
    "# set index\n",
    "train_df3 = train_df3.set_index(\"PassengerId\")\n",
    "test_df3 = test_df3.set_index(\"PassengerId\")\n",
    "\n",
    "train, test = train_test_split(train_df3)\n",
    "\n",
    "y_train3 = train[\"Survived\"]\n",
    "y_test3 = test[\"Survived\"]\n",
    "\n",
    "X_train3 = train\n",
    "del X_train3[\"Survived\"]\n",
    "\n",
    "X_test3 = test\n",
    "del X_test3[\"Survived\"]"
   ]
  },
  {
   "cell_type": "code",
   "execution_count": 83,
   "metadata": {},
   "outputs": [
    {
     "name": "stdout",
     "output_type": "stream",
     "text": [
      "The C: 0.01, the pred_score: 0.726457399103139\n",
      "Index(['Pclass', 'Age', 'SibSp', 'Parch', 'Fare', 'gender', 'embarked_code'], dtype='object')\n",
      "coefficient: [-0.44719693392780857, -0.09747017612475242, 0.0490555273354275, 0.005929467520084539, 0.44006168341330426, -0.004830807546558353]\n",
      "The C: 0.1, the pred_score: 0.7937219730941704\n",
      "Index(['Pclass', 'Age', 'SibSp', 'Parch', 'Fare', 'gender', 'embarked_code'], dtype='object')\n",
      "coefficient: [-0.8625378887071137, -0.15207030614444322, 0.04610642411345069, 0.0008870358388404214, 1.6316040970994583, 0.06281954648724501]\n",
      "The C: 1, the pred_score: 0.7982062780269058\n",
      "Index(['Pclass', 'Age', 'SibSp', 'Parch', 'Fare', 'gender', 'embarked_code'], dtype='object')\n",
      "coefficient: [-0.8620106504885556, -0.20238417582037688, -0.0479473886033367, 0.002006758922128004, 2.4920892782124384, 0.15574877390623743]\n",
      "The C: 10, the pred_score: 0.8026905829596412\n",
      "Index(['Pclass', 'Age', 'SibSp', 'Parch', 'Fare', 'gender', 'embarked_code'], dtype='object')\n",
      "coefficient: [-0.8206426781995979, -0.21797807175593126, -0.07948982457437244, 0.0029416407397993894, 2.69458934067059, 0.19465735470088133]\n",
      "The C: 100, the pred_score: 0.8026905829596412\n",
      "Index(['Pclass', 'Age', 'SibSp', 'Parch', 'Fare', 'gender', 'embarked_code'], dtype='object')\n",
      "coefficient: [-0.8146904817457028, -0.21997022797875887, -0.08351543182748108, 0.0030725590647394025, 2.718760442736282, 0.19976146360932573]\n"
     ]
    }
   ],
   "source": [
    "# use dataset3\n",
    "C_list = [0.01, 0.1, 1, 10, 100] \n",
    "for c in C_list:\n",
    "    lg = LogisticRegression(C=c, solver=\"liblinear\").fit(X_train3, y_train3)\n",
    "    # y_pred = lg.predict(X_test)\n",
    "    pred_score = lg.score(X_test3, y_test3)\n",
    "    print(\"The C: %s, the pred_score: %s\" % (c, pred_score))\n",
    "    coef_list = lg.coef_.tolist()[0]\n",
    "    print(X_train2.columns)\n",
    "    print(\"coefficient: %s\" % coef_list)"
   ]
  },
  {
   "cell_type": "code",
   "execution_count": null,
   "metadata": {},
   "outputs": [],
   "source": []
  }
 ],
 "metadata": {
  "kernelspec": {
   "display_name": "Python 3",
   "language": "python",
   "name": "python3"
  },
  "language_info": {
   "codemirror_mode": {
    "name": "ipython",
    "version": 3
   },
   "file_extension": ".py",
   "mimetype": "text/x-python",
   "name": "python",
   "nbconvert_exporter": "python",
   "pygments_lexer": "ipython3",
   "version": "3.6.8"
  }
 },
 "nbformat": 4,
 "nbformat_minor": 2
}
