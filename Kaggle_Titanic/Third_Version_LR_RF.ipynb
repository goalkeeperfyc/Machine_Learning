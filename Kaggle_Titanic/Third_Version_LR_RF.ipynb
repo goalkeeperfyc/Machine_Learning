{
 "cells": [
  {
   "cell_type": "code",
   "execution_count": 1,
   "metadata": {},
   "outputs": [
    {
     "name": "stdout",
     "output_type": "stream",
     "text": [
      "0.20.3\n"
     ]
    }
   ],
   "source": [
    "# import libraries\n",
    "import numpy as np \n",
    "import pandas as pd \n",
    "import sklearn\n",
    "import re\n",
    "import seaborn as sns\n",
    "import matplotlib.pyplot as plt\n",
    "from sklearn.model_selection import train_test_split\n",
    "from sklearn.linear_model import LogisticRegression\n",
    "from sklearn.ensemble import RandomForestClassifier\n",
    "print(sklearn.__version__)"
   ]
  },
  {
   "cell_type": "code",
   "execution_count": 2,
   "metadata": {},
   "outputs": [],
   "source": [
    "train_df = pd.read_csv(\"train.csv\")\n",
    "test_df = pd.read_csv(\"test.csv\")\n",
    "data_process_list = [train_df, test_df]"
   ]
  },
  {
   "cell_type": "code",
   "execution_count": 3,
   "metadata": {},
   "outputs": [],
   "source": [
    "# deal with Name\n",
    "def re_name(x):\n",
    "    find_Miss = re.findall(\"Miss\", x)\n",
    "    if find_Miss != []:\n",
    "        return \"Miss\"\n",
    "    find_Mrs = re.findall(\"Mrs\", x)\n",
    "    if find_Mrs != []:\n",
    "        return \"Mrs\"\n",
    "    find_Mr = re.findall(\"Mr\", x)\n",
    "    if find_Mr != []:\n",
    "        return \"Mr\"\n",
    "    find_Master = re.findall(\"Master\", x)\n",
    "    if find_Master != []:\n",
    "        return \"Master\"\n",
    "    return None\n",
    "\n",
    "# function for age, transfor age into group (0, 10)(11, 20)(21, 30)(31, 40)(41, 80)\n",
    "def trans_age(x):\n",
    "    if x <= 10:\n",
    "        return 1\n",
    "    if x <= 20:\n",
    "        return 2\n",
    "    if x <= 30:\n",
    "        return 3\n",
    "    if x <= 40:\n",
    "        return 4\n",
    "    if x <= 80:\n",
    "        return 5\n",
    "    \n",
    "# use transfor categorical data into numerical dataset\n",
    "def dummy(x, value):\n",
    "    if x == value:\n",
    "        return 1\n",
    "    else:\n",
    "        return 0"
   ]
  },
  {
   "cell_type": "code",
   "execution_count": 4,
   "metadata": {},
   "outputs": [],
   "source": [
    "delete_columns_list = []\n",
    "# deal with categorical data\n",
    "for df in data_process_list:\n",
    "    \n",
    "    # deal with name\n",
    "    df[\"new_name\"] = df[\"Name\"].apply(lambda x: re_name(x))\n",
    "    df[\"Mr_title\"] = df[\"new_name\"].apply(lambda x: dummy(x, \"Mr\"))\n",
    "    df[\"Mrs_title\"] = df[\"new_name\"].apply(lambda x: dummy(x, \"Mrs\"))\n",
    "    df[\"Miss_title\"] = df[\"new_name\"].apply(lambda x: dummy(x, \"Miss\"))\n",
    "    df[\"Master_title\"] = df[\"new_name\"].apply(lambda x: dummy(x, \"Master\"))\n",
    "    df[\"other_title\"] = df[\"new_name\"].isna() * 1\n",
    "\n",
    "    # deal with embarked\n",
    "    df[\"embarked_S\"] = df[\"Embarked\"].apply(lambda x: dummy(x, \"S\"))\n",
    "    df[\"embarked_Q\"] = df[\"Embarked\"].apply(lambda x: dummy(x, \"Q\"))\n",
    "    df[\"embarked_C\"] = df[\"Embarked\"].apply(lambda x: dummy(x, \"C\"))\n",
    "    df[\"embarked_missing\"] = df[\"Embarked\"].isna() * 1\n",
    "\n",
    "    # deal with Pclass\n",
    "    df[\"pclass_1\"] = df[\"Pclass\"].apply(lambda x: dummy(x, 1))\n",
    "    df[\"pclass_2\"] = df[\"Pclass\"].apply(lambda x: dummy(x, 2))\n",
    "    df[\"pclass_3\"] = df[\"Pclass\"].apply(lambda x: dummy(x, 3)) \n",
    "    \n",
    "    # deal with age\n",
    "    df[\"trans_age\"] = df[\"Age\"].apply(lambda x: trans_age(x))\n",
    "    df[\"age_0_10\"] = df[\"trans_age\"].apply(lambda x: dummy(x, 1))\n",
    "    df[\"age_11_20\"] = df[\"trans_age\"].apply(lambda x: dummy(x, 2))\n",
    "    df[\"age_21_30\"] = df[\"trans_age\"].apply(lambda x: dummy(x, 3))\n",
    "    df[\"age_31_40\"] = df[\"trans_age\"].apply(lambda x: dummy(x, 4))\n",
    "    df[\"age_41_80\"] = df[\"trans_age\"].apply(lambda x: dummy(x, 5))\n",
    "    df[\"age_missinig\"] = df[\"Age\"].isna() * 1\n",
    "    \n",
    "    # deal with sex\n",
    "    df[\"gender_male\"] = df[\"Sex\"].apply(lambda x: dummy(x, \"male\"))\n",
    "    df[\"gender_female\"] = df[\"Sex\"].apply(lambda x: dummy(x, \"female\"))\n",
    "    \n",
    "    # Peers\n",
    "    df[\"relatives\"] = df[\"SibSp\"] + df[\"Parch\"]\n",
    "    df[\"Alone\"] = df[\"relatives\"].apply(lambda x: dummy(x, 0))\n",
    "    \n",
    "delete_columns_list.append(\"Sex\")\n",
    "delete_columns_list.append(\"Name\")\n",
    "delete_columns_list.append(\"new_name\")\n",
    "delete_columns_list.append(\"Cabin\")\n",
    "delete_columns_list.append(\"Ticket\")\n",
    "delete_columns_list.append(\"Age\")\n",
    "delete_columns_list.append(\"trans_age\")\n",
    "delete_columns_list.append(\"Pclass\")\n",
    "delete_columns_list.append(\"Embarked\")\n",
    "delete_columns_list.append(\"SibSp\")\n",
    "delete_columns_list.append(\"Parch\")"
   ]
  },
  {
   "cell_type": "code",
   "execution_count": 5,
   "metadata": {},
   "outputs": [],
   "source": [
    "# delete unrelated columns\n",
    "for df in data_process_list:\n",
    "    for col in delete_columns_list:\n",
    "        del df[col]"
   ]
  },
  {
   "cell_type": "code",
   "execution_count": 6,
   "metadata": {},
   "outputs": [
    {
     "name": "stdout",
     "output_type": "stream",
     "text": [
      "<class 'pandas.core.frame.DataFrame'>\n",
      "RangeIndex: 891 entries, 0 to 890\n",
      "Data columns (total 25 columns):\n",
      "PassengerId         891 non-null int64\n",
      "Survived            891 non-null int64\n",
      "Fare                891 non-null float64\n",
      "Mr_title            891 non-null int64\n",
      "Mrs_title           891 non-null int64\n",
      "Miss_title          891 non-null int64\n",
      "Master_title        891 non-null int64\n",
      "other_title         891 non-null int64\n",
      "embarked_S          891 non-null int64\n",
      "embarked_Q          891 non-null int64\n",
      "embarked_C          891 non-null int64\n",
      "embarked_missing    891 non-null int64\n",
      "pclass_1            891 non-null int64\n",
      "pclass_2            891 non-null int64\n",
      "pclass_3            891 non-null int64\n",
      "age_0_10            891 non-null int64\n",
      "age_11_20           891 non-null int64\n",
      "age_21_30           891 non-null int64\n",
      "age_31_40           891 non-null int64\n",
      "age_41_80           891 non-null int64\n",
      "age_missinig        891 non-null int64\n",
      "gender_male         891 non-null int64\n",
      "gender_female       891 non-null int64\n",
      "relatives           891 non-null int64\n",
      "Alone               891 non-null int64\n",
      "dtypes: float64(1), int64(24)\n",
      "memory usage: 174.1 KB\n",
      "None\n",
      "<class 'pandas.core.frame.DataFrame'>\n",
      "RangeIndex: 418 entries, 0 to 417\n",
      "Data columns (total 24 columns):\n",
      "PassengerId         418 non-null int64\n",
      "Fare                417 non-null float64\n",
      "Mr_title            418 non-null int64\n",
      "Mrs_title           418 non-null int64\n",
      "Miss_title          418 non-null int64\n",
      "Master_title        418 non-null int64\n",
      "other_title         418 non-null int64\n",
      "embarked_S          418 non-null int64\n",
      "embarked_Q          418 non-null int64\n",
      "embarked_C          418 non-null int64\n",
      "embarked_missing    418 non-null int64\n",
      "pclass_1            418 non-null int64\n",
      "pclass_2            418 non-null int64\n",
      "pclass_3            418 non-null int64\n",
      "age_0_10            418 non-null int64\n",
      "age_11_20           418 non-null int64\n",
      "age_21_30           418 non-null int64\n",
      "age_31_40           418 non-null int64\n",
      "age_41_80           418 non-null int64\n",
      "age_missinig        418 non-null int64\n",
      "gender_male         418 non-null int64\n",
      "gender_female       418 non-null int64\n",
      "relatives           418 non-null int64\n",
      "Alone               418 non-null int64\n",
      "dtypes: float64(1), int64(23)\n",
      "memory usage: 78.5 KB\n",
      "None\n"
     ]
    }
   ],
   "source": [
    "print(train_df.info())\n",
    "print(test_df.info())"
   ]
  },
  {
   "cell_type": "code",
   "execution_count": 7,
   "metadata": {},
   "outputs": [],
   "source": [
    "# train_df = train_df.set_index(train_df[\"PassengerId\"])\n",
    "# This method will duplicate column passengerid to index instead of moving column to index\n",
    "train_df = train_df.set_index(\"PassengerId\")\n",
    "test_df = test_df.set_index(\"PassengerId\")"
   ]
  },
  {
   "cell_type": "code",
   "execution_count": 8,
   "metadata": {},
   "outputs": [],
   "source": [
    "# fill nan value\n",
    "train_df = train_df.fillna(0)\n",
    "test_df =test_df.fillna(0)"
   ]
  },
  {
   "cell_type": "code",
   "execution_count": 9,
   "metadata": {},
   "outputs": [],
   "source": [
    "train, test = train_test_split(train_df)"
   ]
  },
  {
   "cell_type": "code",
   "execution_count": 10,
   "metadata": {},
   "outputs": [],
   "source": [
    "y_train = train[\"Survived\"]\n",
    "y_test = test[\"Survived\"]\n",
    "\n",
    "X_train = train\n",
    "del X_train[\"Survived\"]\n",
    "\n",
    "X_test = test\n",
    "del X_test[\"Survived\"]"
   ]
  },
  {
   "cell_type": "code",
   "execution_count": 11,
   "metadata": {},
   "outputs": [
    {
     "name": "stdout",
     "output_type": "stream",
     "text": [
      "The train_score: 0.8203592814371258\n"
     ]
    }
   ],
   "source": [
    "# logistic regression\n",
    "lg = LogisticRegression(C=1, solver=\"liblinear\", max_iter=100).fit(X_train, y_train)\n",
    "train_score = lg.score(X_train, y_train)\n",
    "pred_score = lg.score(X_test, y_test)\n",
    "print(\"The train_score: %s\" % train_score)"
   ]
  },
  {
   "cell_type": "code",
   "execution_count": 12,
   "metadata": {},
   "outputs": [],
   "source": [
    "lg_result = lg.predict(test_df)\n",
    "lg_sub = pd.DataFrame(lg_result, test_df.index)\n",
    "lg_sub = lg_sub.rename(columns={0: \"Survived\"})\n",
    "lg_sub.to_csv(\"lg_submission.csv\", encoding=\"utf-8\")\n",
    "# The score is 0.78468"
   ]
  },
  {
   "cell_type": "code",
   "execution_count": 13,
   "metadata": {},
   "outputs": [
    {
     "name": "stdout",
     "output_type": "stream",
     "text": [
      "The estimator is 10, the pred_score is 0.8430493273542601\n",
      "The estimator is 10, the train_score is 0.938622754491018\n",
      "The estimator is 20, the pred_score is 0.852017937219731\n",
      "The estimator is 20, the train_score is 0.9476047904191617\n",
      "The estimator is 30, the pred_score is 0.8251121076233184\n",
      "The estimator is 30, the train_score is 0.9565868263473054\n",
      "The estimator is 40, the pred_score is 0.8251121076233184\n",
      "The estimator is 40, the train_score is 0.9550898203592815\n",
      "The estimator is 50, the pred_score is 0.8251121076233184\n",
      "The estimator is 50, the train_score is 0.9565868263473054\n",
      "The estimator is 60, the pred_score is 0.8251121076233184\n",
      "The estimator is 60, the train_score is 0.9565868263473054\n",
      "The estimator is 70, the pred_score is 0.8295964125560538\n",
      "The estimator is 70, the train_score is 0.9565868263473054\n",
      "The estimator is 80, the pred_score is 0.8295964125560538\n",
      "The estimator is 80, the train_score is 0.9565868263473054\n",
      "The estimator is 90, the pred_score is 0.8430493273542601\n",
      "The estimator is 90, the train_score is 0.9565868263473054\n",
      "The estimator is 100, the pred_score is 0.8340807174887892\n",
      "The estimator is 100, the train_score is 0.9565868263473054\n",
      "The estimator is 110, the pred_score is 0.8295964125560538\n",
      "The estimator is 110, the train_score is 0.9565868263473054\n",
      "The estimator is 120, the pred_score is 0.8251121076233184\n",
      "The estimator is 120, the train_score is 0.9565868263473054\n",
      "The estimator is 130, the pred_score is 0.8340807174887892\n",
      "The estimator is 130, the train_score is 0.9565868263473054\n",
      "The estimator is 140, the pred_score is 0.8340807174887892\n",
      "The estimator is 140, the train_score is 0.9565868263473054\n",
      "The estimator is 150, the pred_score is 0.8385650224215246\n",
      "The estimator is 150, the train_score is 0.9565868263473054\n",
      "The estimator is 160, the pred_score is 0.8430493273542601\n",
      "The estimator is 160, the train_score is 0.9565868263473054\n",
      "The estimator is 170, the pred_score is 0.8251121076233184\n",
      "The estimator is 170, the train_score is 0.9565868263473054\n",
      "The estimator is 180, the pred_score is 0.8295964125560538\n",
      "The estimator is 180, the train_score is 0.9565868263473054\n",
      "The estimator is 190, the pred_score is 0.8251121076233184\n",
      "The estimator is 190, the train_score is 0.9565868263473054\n",
      "The estimator is 200, the pred_score is 0.8385650224215246\n",
      "The estimator is 200, the train_score is 0.9565868263473054\n",
      "The estimator is 210, the pred_score is 0.8251121076233184\n",
      "The estimator is 210, the train_score is 0.9565868263473054\n",
      "The estimator is 220, the pred_score is 0.8385650224215246\n",
      "The estimator is 220, the train_score is 0.9565868263473054\n",
      "The estimator is 230, the pred_score is 0.8430493273542601\n",
      "The estimator is 230, the train_score is 0.9565868263473054\n",
      "The estimator is 240, the pred_score is 0.8430493273542601\n",
      "The estimator is 240, the train_score is 0.9565868263473054\n",
      "The estimator is 250, the pred_score is 0.8385650224215246\n",
      "The estimator is 250, the train_score is 0.9565868263473054\n",
      "The estimator is 260, the pred_score is 0.8340807174887892\n",
      "The estimator is 260, the train_score is 0.9565868263473054\n",
      "The estimator is 270, the pred_score is 0.8385650224215246\n",
      "The estimator is 270, the train_score is 0.9565868263473054\n",
      "The estimator is 280, the pred_score is 0.8475336322869955\n",
      "The estimator is 280, the train_score is 0.9565868263473054\n",
      "The estimator is 290, the pred_score is 0.8295964125560538\n",
      "The estimator is 290, the train_score is 0.9565868263473054\n",
      "The estimator is 300, the pred_score is 0.8385650224215246\n",
      "The estimator is 300, the train_score is 0.9565868263473054\n",
      "The estimator is 310, the pred_score is 0.8340807174887892\n",
      "The estimator is 310, the train_score is 0.9565868263473054\n",
      "The estimator is 320, the pred_score is 0.8340807174887892\n",
      "The estimator is 320, the train_score is 0.9565868263473054\n",
      "The estimator is 330, the pred_score is 0.8340807174887892\n",
      "The estimator is 330, the train_score is 0.9565868263473054\n",
      "The estimator is 340, the pred_score is 0.8385650224215246\n",
      "The estimator is 340, the train_score is 0.9565868263473054\n",
      "The estimator is 350, the pred_score is 0.8385650224215246\n",
      "The estimator is 350, the train_score is 0.9565868263473054\n",
      "The estimator is 360, the pred_score is 0.8385650224215246\n",
      "The estimator is 360, the train_score is 0.9565868263473054\n",
      "The estimator is 370, the pred_score is 0.8340807174887892\n",
      "The estimator is 370, the train_score is 0.9565868263473054\n",
      "The estimator is 380, the pred_score is 0.8295964125560538\n",
      "The estimator is 380, the train_score is 0.9565868263473054\n",
      "The estimator is 390, the pred_score is 0.8340807174887892\n",
      "The estimator is 390, the train_score is 0.9565868263473054\n",
      "The estimator is 400, the pred_score is 0.8385650224215246\n",
      "The estimator is 400, the train_score is 0.9565868263473054\n",
      "The estimator is 410, the pred_score is 0.8430493273542601\n",
      "The estimator is 410, the train_score is 0.9565868263473054\n",
      "The estimator is 420, the pred_score is 0.8385650224215246\n",
      "The estimator is 420, the train_score is 0.9565868263473054\n",
      "The estimator is 430, the pred_score is 0.8340807174887892\n",
      "The estimator is 430, the train_score is 0.9565868263473054\n",
      "The estimator is 440, the pred_score is 0.8295964125560538\n",
      "The estimator is 440, the train_score is 0.9565868263473054\n",
      "The estimator is 450, the pred_score is 0.8385650224215246\n",
      "The estimator is 450, the train_score is 0.9565868263473054\n",
      "The estimator is 460, the pred_score is 0.8430493273542601\n",
      "The estimator is 460, the train_score is 0.9565868263473054\n",
      "The estimator is 470, the pred_score is 0.8385650224215246\n",
      "The estimator is 470, the train_score is 0.9565868263473054\n",
      "The estimator is 480, the pred_score is 0.8385650224215246\n",
      "The estimator is 480, the train_score is 0.9565868263473054\n",
      "The estimator is 490, the pred_score is 0.8385650224215246\n",
      "The estimator is 490, the train_score is 0.9565868263473054\n",
      "The estimator is 500, the pred_score is 0.8430493273542601\n",
      "The estimator is 500, the train_score is 0.9565868263473054\n"
     ]
    }
   ],
   "source": [
    "# random forest\n",
    "for e in range(10, 501, 10):\n",
    "    randomTree = RandomForestClassifier(n_estimators=e).fit(X_train, y_train)\n",
    "    pred_score = randomTree.score(X_test, y_test)\n",
    "    train_score = randomTree.score(X_train, y_train)\n",
    "    print(\"The estimator is %s, the pred_score is %s\" % (e, pred_score))\n",
    "    print(\"The estimator is %s, the train_score is %s\" % (e, train_score))"
   ]
  },
  {
   "cell_type": "code",
   "execution_count": 15,
   "metadata": {},
   "outputs": [],
   "source": [
    "result = randomTree.predict(test_df)\n",
    "sub = pd.DataFrame(result, test_df.index)\n",
    "sub.to_csv(\"rf_submission.csv\", encoding=\"utf-8\")\n",
    "# The score is 0.75598"
   ]
  },
  {
   "cell_type": "code",
   "execution_count": 16,
   "metadata": {},
   "outputs": [],
   "source": [
    "# use whole train dataset to train model\n",
    "whole_X_train = train_df\n",
    "whole_y_train = train_df[\"Survived\"]\n",
    "del whole_X_train[\"Survived\"]"
   ]
  },
  {
   "cell_type": "code",
   "execution_count": 17,
   "metadata": {},
   "outputs": [
    {
     "name": "stdout",
     "output_type": "stream",
     "text": [
      "The score of whole train dataset is 0.9562289562289562\n"
     ]
    }
   ],
   "source": [
    "# random forest\n",
    "randomTree = RandomForestClassifier(n_estimators=100).fit(whole_X_train, whole_y_train)\n",
    "rf_score = randomTree.score(whole_X_train, whole_y_train)\n",
    "print(\"The score of whole train dataset is %s\" % (rf_score))"
   ]
  },
  {
   "cell_type": "code",
   "execution_count": 18,
   "metadata": {},
   "outputs": [],
   "source": [
    "result2 = randomTree.predict(test_df)\n",
    "sub2 = pd.DataFrame(result2, test_df.index)\n",
    "sub2 = sub2.rename(columns={0: \"Survived\"})"
   ]
  },
  {
   "cell_type": "code",
   "execution_count": 19,
   "metadata": {},
   "outputs": [],
   "source": [
    "sub2.to_csv(\"rf_submission2.csv\", encoding=\"utf-8\")"
   ]
  },
  {
   "cell_type": "code",
   "execution_count": 21,
   "metadata": {},
   "outputs": [
    {
     "name": "stdout",
     "output_type": "stream",
     "text": [
      "The lg2_score: 0.8338945005611672\n"
     ]
    }
   ],
   "source": [
    "# logistic regression\n",
    "lg2 = LogisticRegression(C=1, solver=\"liblinear\", max_iter=100).fit(whole_X_train, whole_y_train)\n",
    "lg2_score = lg2.score(whole_X_train, whole_y_train)\n",
    "print(\"The lg2_score: %s\" % lg2_score)"
   ]
  },
  {
   "cell_type": "code",
   "execution_count": 23,
   "metadata": {},
   "outputs": [],
   "source": [
    "result3 = lg2.predict(test_df)\n",
    "sub3 = pd.DataFrame(result3, test_df.index)\n",
    "sub3 = sub3.rename(columns={0: \"Survived\"})\n",
    "sub3.to_csv(\"lg_submission2.csv\", encoding=\"utf-8\")\n",
    "# The score is 0.78468"
   ]
  },
  {
   "cell_type": "code",
   "execution_count": null,
   "metadata": {},
   "outputs": [],
   "source": []
  }
 ],
 "metadata": {
  "kernelspec": {
   "display_name": "Python 3",
   "language": "python",
   "name": "python3"
  },
  "language_info": {
   "codemirror_mode": {
    "name": "ipython",
    "version": 3
   },
   "file_extension": ".py",
   "mimetype": "text/x-python",
   "name": "python",
   "nbconvert_exporter": "python",
   "pygments_lexer": "ipython3",
   "version": "3.6.8"
  }
 },
 "nbformat": 4,
 "nbformat_minor": 2
}
