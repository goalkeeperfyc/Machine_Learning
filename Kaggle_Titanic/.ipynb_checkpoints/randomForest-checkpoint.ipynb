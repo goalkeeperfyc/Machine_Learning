{
 "cells": [
  {
   "cell_type": "code",
   "execution_count": 1,
   "metadata": {},
   "outputs": [
    {
     "name": "stderr",
     "output_type": "stream",
     "text": [
      "/Applications/anaconda3/lib/python3.6/importlib/_bootstrap.py:219: RuntimeWarning: numpy.ufunc size changed, may indicate binary incompatibility. Expected 192 from C header, got 216 from PyObject\n",
      "  return f(*args, **kwds)\n",
      "/Applications/anaconda3/lib/python3.6/importlib/_bootstrap.py:219: RuntimeWarning: numpy.ufunc size changed, may indicate binary incompatibility. Expected 192 from C header, got 216 from PyObject\n",
      "  return f(*args, **kwds)\n"
     ]
    }
   ],
   "source": [
    "import pandas as pd\n",
    "import numpy as np\n",
    "from sklearn.model_selection import train_test_split\n",
    "from sklearn.ensemble import RandomForestClassifier"
   ]
  },
  {
   "cell_type": "code",
   "execution_count": 2,
   "metadata": {},
   "outputs": [],
   "source": [
    "train_df = pd.read_csv(\"train.csv\")\n",
    "test_df = pd.read_csv(\"test.csv\")"
   ]
  },
  {
   "cell_type": "code",
   "execution_count": 3,
   "metadata": {},
   "outputs": [],
   "source": [
    "### clean data\n",
    "\n",
    "# trans string sex to integer\n",
    "def trans_sex(sex):\n",
    "    if sex == \"male\":\n",
    "        return 1\n",
    "    else:\n",
    "        return 2\n",
    "train_df[\"gender\"] = train_df[\"Sex\"].apply(lambda x: trans_sex(x))\n",
    "test_df[\"gender\"] = test_df[\"Sex\"].apply(lambda x: trans_sex(x))\n",
    "# print(train_df[\"gender\"])\n",
    "\n",
    "# del the Name\n",
    "del train_df[\"Name\"]\n",
    "del test_df[\"Name\"]\n",
    "\n",
    "# del the Ticket, because I don't know what is it\n",
    "del train_df[\"Ticket\"]\n",
    "del test_df[\"Ticket\"]\n",
    "\n",
    "# del the variable cabin\n",
    "del train_df[\"Cabin\"]\n",
    "del test_df[\"Cabin\"]\n",
    "\n",
    "# trans embarked\n",
    "def trans_embarked(embarked):\n",
    "    if embarked == \"S\":\n",
    "        return 1\n",
    "    elif embarked == \"C\":\n",
    "        return 2\n",
    "    else:\n",
    "        return 3\n",
    "\n",
    "train_df[\"embarked_code\"] = train_df[\"Embarked\"].apply(lambda x: trans_embarked(x))\n",
    "test_df[\"embarked_code\"] = test_df[\"Embarked\"].apply(lambda x: trans_embarked(x))\n",
    "\n",
    "# del two trans variables\n",
    "del train_df[\"Sex\"]\n",
    "del train_df[\"Embarked\"]\n",
    "\n",
    "del test_df[\"Sex\"]\n",
    "del test_df[\"Embarked\"]\n",
    "\n",
    "# set index\n",
    "train_df = train_df.set_index(\"PassengerId\")\n",
    "test_df = test_df.set_index(\"PassengerId\")\n",
    "\n",
    "# fill nan value\n",
    "train_df = train_df.fillna(99)\n",
    "test_df =test_df.fillna(99)\n",
    "\n",
    "# split data into train dataset and test dataset\n",
    "train, test = train_test_split(train_df)\n",
    "\n",
    "# the result of train and test dataset\n",
    "y_train = train[\"Survived\"]\n",
    "y_test = test[\"Survived\"]\n",
    "\n",
    "X_train = train\n",
    "del X_train[\"Survived\"]\n",
    "\n",
    "X_test = test\n",
    "del X_test[\"Survived\"]"
   ]
  },
  {
   "cell_type": "code",
   "execution_count": 5,
   "metadata": {},
   "outputs": [
    {
     "name": "stdout",
     "output_type": "stream",
     "text": [
      "The pred_score is 0.8071748878923767\n"
     ]
    },
    {
     "name": "stderr",
     "output_type": "stream",
     "text": [
      "/Applications/anaconda3/lib/python3.6/site-packages/sklearn/ensemble/forest.py:246: FutureWarning: The default value of n_estimators will change from 10 in version 0.20 to 100 in 0.22.\n",
      "  \"10 in version 0.20 to 100 in 0.22.\", FutureWarning)\n"
     ]
    }
   ],
   "source": [
    "randomTree = RandomForestClassifier().fit(X_train, y_train)\n",
    "pred_score = randomTree.score(X_test, y_test)\n",
    "print(\"The pred_score is %s\" % pred_score)"
   ]
  },
  {
   "cell_type": "code",
   "execution_count": 6,
   "metadata": {},
   "outputs": [
    {
     "name": "stdout",
     "output_type": "stream",
     "text": [
      "The estimator is 10, the pred_score is 0.8071748878923767\n",
      "The estimator is 20, the pred_score is 0.8295964125560538\n",
      "The estimator is 30, the pred_score is 0.8385650224215246\n",
      "The estimator is 40, the pred_score is 0.8251121076233184\n",
      "The estimator is 50, the pred_score is 0.8161434977578476\n",
      "The estimator is 60, the pred_score is 0.820627802690583\n",
      "The estimator is 70, the pred_score is 0.8295964125560538\n",
      "The estimator is 80, the pred_score is 0.820627802690583\n",
      "The estimator is 90, the pred_score is 0.8161434977578476\n",
      "The estimator is 100, the pred_score is 0.8161434977578476\n",
      "The estimator is 110, the pred_score is 0.8116591928251121\n",
      "The estimator is 120, the pred_score is 0.820627802690583\n",
      "The estimator is 130, the pred_score is 0.8295964125560538\n",
      "The estimator is 140, the pred_score is 0.820627802690583\n",
      "The estimator is 150, the pred_score is 0.8251121076233184\n",
      "The estimator is 160, the pred_score is 0.820627802690583\n",
      "The estimator is 170, the pred_score is 0.8295964125560538\n",
      "The estimator is 180, the pred_score is 0.820627802690583\n",
      "The estimator is 190, the pred_score is 0.8295964125560538\n",
      "The estimator is 200, the pred_score is 0.820627802690583\n",
      "The estimator is 210, the pred_score is 0.8161434977578476\n",
      "The estimator is 220, the pred_score is 0.8161434977578476\n",
      "The estimator is 230, the pred_score is 0.8340807174887892\n",
      "The estimator is 240, the pred_score is 0.820627802690583\n",
      "The estimator is 250, the pred_score is 0.8251121076233184\n",
      "The estimator is 260, the pred_score is 0.8340807174887892\n",
      "The estimator is 270, the pred_score is 0.8251121076233184\n",
      "The estimator is 280, the pred_score is 0.8161434977578476\n",
      "The estimator is 290, the pred_score is 0.8161434977578476\n",
      "The estimator is 300, the pred_score is 0.820627802690583\n",
      "The estimator is 310, the pred_score is 0.820627802690583\n",
      "The estimator is 320, the pred_score is 0.8295964125560538\n",
      "The estimator is 330, the pred_score is 0.8295964125560538\n",
      "The estimator is 340, the pred_score is 0.8161434977578476\n",
      "The estimator is 350, the pred_score is 0.820627802690583\n",
      "The estimator is 360, the pred_score is 0.8251121076233184\n",
      "The estimator is 370, the pred_score is 0.8251121076233184\n",
      "The estimator is 380, the pred_score is 0.8295964125560538\n",
      "The estimator is 390, the pred_score is 0.8251121076233184\n",
      "The estimator is 400, the pred_score is 0.820627802690583\n",
      "The estimator is 410, the pred_score is 0.8251121076233184\n",
      "The estimator is 420, the pred_score is 0.8116591928251121\n",
      "The estimator is 430, the pred_score is 0.8295964125560538\n",
      "The estimator is 440, the pred_score is 0.8116591928251121\n",
      "The estimator is 450, the pred_score is 0.820627802690583\n",
      "The estimator is 460, the pred_score is 0.8251121076233184\n",
      "The estimator is 470, the pred_score is 0.8251121076233184\n",
      "The estimator is 480, the pred_score is 0.8251121076233184\n",
      "The estimator is 490, the pred_score is 0.8295964125560538\n",
      "The estimator is 500, the pred_score is 0.8251121076233184\n"
     ]
    }
   ],
   "source": [
    "for e in range(10, 501, 10):\n",
    "    randomTree = RandomForestClassifier(n_estimators=e).fit(X_train, y_train)\n",
    "    pred_score = randomTree.score(X_test, y_test)\n",
    "    print(\"The estimator is %s, the pred_score is %s\" % (e, pred_score))"
   ]
  },
  {
   "cell_type": "code",
   "execution_count": 9,
   "metadata": {},
   "outputs": [
    {
     "name": "stdout",
     "output_type": "stream",
     "text": [
      "The estimator is 10, the pred_score is 0.7982062780269058\n",
      "The estimator is 20, the pred_score is 0.7937219730941704\n",
      "The estimator is 30, the pred_score is 0.7982062780269058\n",
      "The estimator is 40, the pred_score is 0.8071748878923767\n",
      "The estimator is 50, the pred_score is 0.8026905829596412\n",
      "The estimator is 60, the pred_score is 0.7892376681614349\n",
      "The estimator is 70, the pred_score is 0.7937219730941704\n",
      "The estimator is 80, the pred_score is 0.7982062780269058\n",
      "The estimator is 90, the pred_score is 0.7847533632286996\n",
      "The estimator is 100, the pred_score is 0.8026905829596412\n",
      "The estimator is 110, the pred_score is 0.8116591928251121\n",
      "The estimator is 120, the pred_score is 0.7937219730941704\n",
      "The estimator is 130, the pred_score is 0.8071748878923767\n",
      "The estimator is 140, the pred_score is 0.7937219730941704\n",
      "The estimator is 150, the pred_score is 0.8116591928251121\n",
      "The estimator is 160, the pred_score is 0.7892376681614349\n",
      "The estimator is 170, the pred_score is 0.8161434977578476\n",
      "The estimator is 180, the pred_score is 0.7892376681614349\n",
      "The estimator is 190, the pred_score is 0.8026905829596412\n",
      "The estimator is 200, the pred_score is 0.8026905829596412\n",
      "The estimator is 210, the pred_score is 0.8071748878923767\n",
      "The estimator is 220, the pred_score is 0.8026905829596412\n",
      "The estimator is 230, the pred_score is 0.7982062780269058\n",
      "The estimator is 240, the pred_score is 0.8026905829596412\n",
      "The estimator is 250, the pred_score is 0.7937219730941704\n",
      "The estimator is 260, the pred_score is 0.7982062780269058\n",
      "The estimator is 270, the pred_score is 0.7982062780269058\n",
      "The estimator is 280, the pred_score is 0.8116591928251121\n",
      "The estimator is 290, the pred_score is 0.7982062780269058\n",
      "The estimator is 300, the pred_score is 0.7982062780269058\n",
      "The estimator is 310, the pred_score is 0.8071748878923767\n",
      "The estimator is 320, the pred_score is 0.7892376681614349\n",
      "The estimator is 330, the pred_score is 0.7847533632286996\n",
      "The estimator is 340, the pred_score is 0.8026905829596412\n",
      "The estimator is 350, the pred_score is 0.8071748878923767\n",
      "The estimator is 360, the pred_score is 0.7982062780269058\n",
      "The estimator is 370, the pred_score is 0.7937219730941704\n",
      "The estimator is 380, the pred_score is 0.8026905829596412\n",
      "The estimator is 390, the pred_score is 0.8071748878923767\n",
      "The estimator is 400, the pred_score is 0.7937219730941704\n",
      "The estimator is 410, the pred_score is 0.7937219730941704\n",
      "The estimator is 420, the pred_score is 0.7982062780269058\n",
      "The estimator is 430, the pred_score is 0.7982062780269058\n",
      "The estimator is 440, the pred_score is 0.7937219730941704\n",
      "The estimator is 450, the pred_score is 0.7892376681614349\n",
      "The estimator is 460, the pred_score is 0.8026905829596412\n",
      "The estimator is 470, the pred_score is 0.8026905829596412\n",
      "The estimator is 480, the pred_score is 0.8026905829596412\n",
      "The estimator is 490, the pred_score is 0.7982062780269058\n",
      "The estimator is 500, the pred_score is 0.7982062780269058\n"
     ]
    }
   ],
   "source": [
    "# delete age to have another try\n",
    "del X_train[\"Age\"]\n",
    "del X_test[\"Age\"]\n",
    "\n",
    "for e in range(10, 501, 10):\n",
    "    randomTree = RandomForestClassifier(n_estimators=e).fit(X_train, y_train)\n",
    "    pred_score = randomTree.score(X_test, y_test)\n",
    "    print(\"The estimator is %s, the pred_score is %s\" % (e, pred_score))"
   ]
  },
  {
   "cell_type": "code",
   "execution_count": null,
   "metadata": {},
   "outputs": [],
   "source": []
  }
 ],
 "metadata": {
  "kernelspec": {
   "display_name": "Python 3",
   "language": "python",
   "name": "python3"
  },
  "language_info": {
   "codemirror_mode": {
    "name": "ipython",
    "version": 3
   },
   "file_extension": ".py",
   "mimetype": "text/x-python",
   "name": "python",
   "nbconvert_exporter": "python",
   "pygments_lexer": "ipython3",
   "version": "3.6.8"
  }
 },
 "nbformat": 4,
 "nbformat_minor": 2
}
