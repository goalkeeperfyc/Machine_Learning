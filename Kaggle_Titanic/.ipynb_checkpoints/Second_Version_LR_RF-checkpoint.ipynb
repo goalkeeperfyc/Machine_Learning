{
 "cells": [
  {
   "cell_type": "code",
   "execution_count": 153,
   "metadata": {},
   "outputs": [],
   "source": [
    "# import libraries\n",
    "import numpy as np \n",
    "import pandas as pd \n",
    "import sklearn\n",
    "import re\n",
    "import seaborn as sns\n",
    "import matplotlib.pyplot as plt\n",
    "from sklearn.model_selection import train_test_split\n",
    "from sklearn.linear_model import LogisticRegression\n",
    "from sklearn.ensemble import RandomForestClassifier"
   ]
  },
  {
   "cell_type": "code",
   "execution_count": 154,
   "metadata": {},
   "outputs": [
    {
     "data": {
      "text/plain": [
       "'0.20.3'"
      ]
     },
     "execution_count": 154,
     "metadata": {},
     "output_type": "execute_result"
    }
   ],
   "source": [
    "sklearn.__version__"
   ]
  },
  {
   "cell_type": "code",
   "execution_count": 155,
   "metadata": {},
   "outputs": [],
   "source": [
    "train_df = pd.read_csv(\"train.csv\")\n",
    "test_df = pd.read_csv(\"test.csv\")\n",
    "data_process_list = [train_df, test_df]"
   ]
  },
  {
   "cell_type": "code",
   "execution_count": 156,
   "metadata": {},
   "outputs": [],
   "source": [
    "# deal with Name\n",
    "def re_name(x):\n",
    "    find_Miss = re.findall(\"Miss\", x)\n",
    "    if find_Miss != []:\n",
    "        return \"Miss\"\n",
    "    find_Mrs = re.findall(\"Mrs\", x)\n",
    "    if find_Mrs != []:\n",
    "        return \"Mrs\"\n",
    "    find_Mr = re.findall(\"Mr\", x)\n",
    "    if find_Mr != []:\n",
    "        return \"Mr\"\n",
    "    find_Master = re.findall(\"Master\", x)\n",
    "    if find_Master != []:\n",
    "        return \"Master\"\n",
    "    return None\n",
    "\n",
    "# function for age, transfor age into group (0, 10)(11, 20)(21, 30)(31, 40)(41, 80)\n",
    "def trans_age(x):\n",
    "    if x <= 10:\n",
    "        return 1\n",
    "    if x <= 20:\n",
    "        return 2\n",
    "    if x <= 30:\n",
    "        return 3\n",
    "    if x <= 40:\n",
    "        return 4\n",
    "    if x <= 80:\n",
    "        return 5"
   ]
  },
  {
   "cell_type": "code",
   "execution_count": 157,
   "metadata": {},
   "outputs": [],
   "source": [
    "delete_columns_list = []\n",
    "# deal with categorical data\n",
    "for df in data_process_list:\n",
    "    \n",
    "    # deal with name\n",
    "    df[\"new_name\"] = df[\"Name\"].apply(lambda x: re_name(x))\n",
    "    df[\"Mr_title\"] = df[\"new_name\"].apply(lambda x: dummy(x, \"Mr\"))\n",
    "    df[\"Mrs_title\"] = df[\"new_name\"].apply(lambda x: dummy(x, \"Mrs\"))\n",
    "    df[\"Miss_title\"] = df[\"new_name\"].apply(lambda x: dummy(x, \"Miss\"))\n",
    "    df[\"Master_title\"] = df[\"new_name\"].apply(lambda x: dummy(x, \"Master\"))\n",
    "    df[\"other_title\"] = df[\"new_name\"].isna() * 1\n",
    "\n",
    "    # deal with embarked\n",
    "    df[\"embarked_S\"] = df[\"Embarked\"].apply(lambda x: dummy(x, \"S\"))\n",
    "    df[\"embarked_Q\"] = df[\"Embarked\"].apply(lambda x: dummy(x, \"Q\"))\n",
    "    df[\"embarked_C\"] = df[\"Embarked\"].apply(lambda x: dummy(x, \"C\"))\n",
    "    df[\"embarked_missing\"] = df[\"Embarked\"].isna() * 1\n",
    "\n",
    "    # deal with Pclass\n",
    "    df[\"pclass_1\"] = df[\"Pclass\"].apply(lambda x: dummy(x, 1))\n",
    "    df[\"pclass_2\"] = df[\"Pclass\"].apply(lambda x: dummy(x, 2))\n",
    "    df[\"pclass_3\"] = df[\"Pclass\"].apply(lambda x: dummy(x, 3)) \n",
    "    \n",
    "    # deal with age\n",
    "    df[\"trans_age\"] = df[\"Age\"].apply(lambda x: trans_age(x))\n",
    "    df[\"age_0_10\"] = df[\"trans_age\"].apply(lambda x: dummy(x, 1))\n",
    "    df[\"age_11_20\"] = df[\"trans_age\"].apply(lambda x: dummy(x, 2))\n",
    "    df[\"age_21_30\"] = df[\"trans_age\"].apply(lambda x: dummy(x, 3))\n",
    "    df[\"age_31_40\"] = df[\"trans_age\"].apply(lambda x: dummy(x, 4))\n",
    "    df[\"age_41_80\"] = df[\"trans_age\"].apply(lambda x: dummy(x, 5))\n",
    "    df[\"age_missinig\"] = df[\"Age\"].isna() * 1\n",
    "    \n",
    "    # deal with sex\n",
    "    df[\"gender_male\"] = df[\"Sex\"].apply(lambda x: dummy(x, \"male\"))\n",
    "    df[\"gender_female\"] = df[\"Sex\"].apply(lambda x: dummy(x, \"female\"))\n",
    "    \n",
    "delete_columns_list.append(\"Sex\")\n",
    "delete_columns_list.append(\"Name\")\n",
    "delete_columns_list.append(\"new_name\")\n",
    "delete_columns_list.append(\"Cabin\")\n",
    "delete_columns_list.append(\"Ticket\")\n",
    "delete_columns_list.append(\"Age\")\n",
    "delete_columns_list.append(\"trans_age\")\n",
    "delete_columns_list.append(\"Pclass\")\n",
    "delete_columns_list.append(\"Embarked\")"
   ]
  },
  {
   "cell_type": "code",
   "execution_count": 159,
   "metadata": {},
   "outputs": [],
   "source": [
    "# delete unrelated columns\n",
    "for df in data_process_list:\n",
    "    for col in delete_columns_list:\n",
    "        del df[col]"
   ]
  },
  {
   "cell_type": "code",
   "execution_count": 168,
   "metadata": {},
   "outputs": [
    {
     "name": "stdout",
     "output_type": "stream",
     "text": [
      "<class 'pandas.core.frame.DataFrame'>\n",
      "Int64Index: 891 entries, 1 to 891\n",
      "Data columns (total 24 columns):\n",
      "Survived            891 non-null int64\n",
      "SibSp               891 non-null int64\n",
      "Parch               891 non-null int64\n",
      "Fare                891 non-null float64\n",
      "Mr_title            891 non-null int64\n",
      "Mrs_title           891 non-null int64\n",
      "Miss_title          891 non-null int64\n",
      "Master_title        891 non-null int64\n",
      "other_title         891 non-null int64\n",
      "embarked_S          891 non-null int64\n",
      "embarked_Q          891 non-null int64\n",
      "embarked_C          891 non-null int64\n",
      "embarked_missing    891 non-null int64\n",
      "pclass_1            891 non-null int64\n",
      "pclass_2            891 non-null int64\n",
      "pclass_3            891 non-null int64\n",
      "age_0_10            891 non-null int64\n",
      "age_11_20           891 non-null int64\n",
      "age_21_30           891 non-null int64\n",
      "age_31_40           891 non-null int64\n",
      "age_41_80           891 non-null int64\n",
      "age_missinig        891 non-null int64\n",
      "gender_male         891 non-null int64\n",
      "gender_female       891 non-null int64\n",
      "dtypes: float64(1), int64(23)\n",
      "memory usage: 174.0 KB\n",
      "None\n",
      "<class 'pandas.core.frame.DataFrame'>\n",
      "Int64Index: 418 entries, 892 to 1309\n",
      "Data columns (total 23 columns):\n",
      "SibSp               418 non-null int64\n",
      "Parch               418 non-null int64\n",
      "Fare                417 non-null float64\n",
      "Mr_title            418 non-null int64\n",
      "Mrs_title           418 non-null int64\n",
      "Miss_title          418 non-null int64\n",
      "Master_title        418 non-null int64\n",
      "other_title         418 non-null int64\n",
      "embarked_S          418 non-null int64\n",
      "embarked_Q          418 non-null int64\n",
      "embarked_C          418 non-null int64\n",
      "embarked_missing    418 non-null int64\n",
      "pclass_1            418 non-null int64\n",
      "pclass_2            418 non-null int64\n",
      "pclass_3            418 non-null int64\n",
      "age_0_10            418 non-null int64\n",
      "age_11_20           418 non-null int64\n",
      "age_21_30           418 non-null int64\n",
      "age_31_40           418 non-null int64\n",
      "age_41_80           418 non-null int64\n",
      "age_missinig        418 non-null int64\n",
      "gender_male         418 non-null int64\n",
      "gender_female       418 non-null int64\n",
      "dtypes: float64(1), int64(22)\n",
      "memory usage: 78.4 KB\n",
      "None\n"
     ]
    }
   ],
   "source": [
    "print(train_df.info())\n",
    "print(test_df.info())"
   ]
  },
  {
   "cell_type": "code",
   "execution_count": 167,
   "metadata": {},
   "outputs": [],
   "source": [
    "train_df = train_df.set_index(\"PassengerId\")\n",
    "test_df = test_df.set_index(\"PassengerId\")\n",
    "# fill nan value\n",
    "train_df = train_df.fillna(99)\n",
    "test_df =test_df.fillna(99)"
   ]
  },
  {
   "cell_type": "code",
   "execution_count": 123,
   "metadata": {},
   "outputs": [],
   "source": [
    "train, test = train_test_split(train_df)"
   ]
  },
  {
   "cell_type": "code",
   "execution_count": 124,
   "metadata": {},
   "outputs": [],
   "source": [
    "y_train = train[\"Survived\"]\n",
    "y_test = test[\"Survived\"]\n",
    "\n",
    "X_train = train\n",
    "del X_train[\"Survived\"]\n",
    "\n",
    "X_test = test\n",
    "del X_test[\"Survived\"]"
   ]
  },
  {
   "cell_type": "code",
   "execution_count": 126,
   "metadata": {},
   "outputs": [
    {
     "name": "stdout",
     "output_type": "stream",
     "text": [
      "The C: 0.01, the pred_score: 0.6860986547085202\n",
      "Index(['Pclass', 'Age', 'SibSp', 'Parch', 'Fare', 'gender', 'embarked_code'], dtype='object')\n",
      "coefficient: [-0.42439305378938863, -0.010817713959686271, -0.10978862085026395, 0.01999435180874377, 0.008956256366814812, 0.46866943085494733, 0.15172013100800744]\n",
      "The C: 0.1, the pred_score: 0.7443946188340808\n",
      "Index(['Pclass', 'Age', 'SibSp', 'Parch', 'Fare', 'gender', 'embarked_code'], dtype='object')\n",
      "coefficient: [-0.953372462492767, -0.013055687878080239, -0.1791772285200082, 0.01443688278019431, 0.0017828394677628834, 1.659606938646395, 0.407268931643704]\n",
      "The C: 1, the pred_score: 0.7668161434977578\n",
      "Index(['Pclass', 'Age', 'SibSp', 'Parch', 'Fare', 'gender', 'embarked_code'], dtype='object')\n",
      "coefficient: [-1.0446996456100304, -0.012997987910475486, -0.22554220488271653, -0.06636588501131531, 0.0021798837353100534, 2.514985507085229, 0.5372699572420248]\n",
      "The C: 10, the pred_score: 0.7757847533632287\n",
      "Index(['Pclass', 'Age', 'SibSp', 'Parch', 'Fare', 'gender', 'embarked_code'], dtype='object')\n",
      "coefficient: [-1.0207696292385464, -0.012551944823300106, -0.23677931889802492, -0.09199050870130866, 0.002955120732498822, 2.7162051055349945, 0.5703160293953884]\n",
      "The C: 100, the pred_score: 0.7757847533632287\n",
      "Index(['Pclass', 'Age', 'SibSp', 'Parch', 'Fare', 'gender', 'embarked_code'], dtype='object')\n",
      "coefficient: [-1.0167617023734628, -0.012488573505929034, -0.23821354992127122, -0.0951310786612289, 0.0030667898590452307, 2.7401811067289623, 0.5745088146800488]\n"
     ]
    }
   ],
   "source": [
    "# What we knew is that female (gender = 2) and young children were most likely survived\n",
    "### Logistic Regression\n",
    "## parameter\n",
    "# C: float, default 1. Smaller C, stronger regularization\n",
    "# penalty: l1, l2(default)\n",
    "# solver: newton-cg, lbfgs, liblinear(default), sag, saga\n",
    "C_list = [0.01, 0.1, 1, 10, 100] \n",
    "for c in C_list:\n",
    "    lg = LogisticRegression(C=c, solver=\"liblinear\").fit(X_train, y_train)\n",
    "    # y_pred = lg.predict(X_test)\n",
    "    pred_score = lg.score(X_test, y_test)\n",
    "    print(\"The C: %s, the pred_score: %s\" % (c, pred_score))\n",
    "    coef_list = lg.coef_.tolist()[0]\n",
    "    print(X_train.columns)\n",
    "    print(\"coefficient: %s\" % coef_list)"
   ]
  },
  {
   "cell_type": "code",
   "execution_count": 127,
   "metadata": {},
   "outputs": [],
   "source": [
    "### variable age has lots of missing value, try to ignore them\n",
    "\n",
    "## read data\n",
    "train_df2 = pd.read_csv(\"train.csv\")\n",
    "test_df2 = pd.read_csv(\"test.csv\")\n",
    "\n",
    "## clean data\n",
    "# trans string sex to integer\n",
    "train_df2[\"gender\"] = train_df2[\"Sex\"].apply(lambda x: trans_sex(x))\n",
    "test_df2[\"gender\"] = test_df2[\"Sex\"].apply(lambda x: trans_sex(x))\n",
    "\n",
    "# delete variable age\n",
    "del train_df2[\"Age\"]\n",
    "del test_df2[\"Age\"]\n",
    "\n",
    "# fill nan value with 0\n",
    "train_df2 = train_df2.fillna(0)\n",
    "test_df2 = test_df2.fillna(0)\n",
    "\n",
    "# del the Name\n",
    "del train_df2[\"Name\"]\n",
    "del test_df2[\"Name\"]\n",
    "\n",
    "# del the Ticket, because I don't know what is it\n",
    "del train_df2[\"Ticket\"]\n",
    "del test_df2[\"Ticket\"]\n",
    "\n",
    "# del the variable cabin\n",
    "del train_df2[\"Cabin\"]\n",
    "del test_df2[\"Cabin\"]\n",
    "\n",
    "# trans embarked\n",
    "train_df2[\"embarked_code\"] = train_df2[\"Embarked\"].apply(lambda x: trans_embarked(x))\n",
    "test_df2[\"embarked_code\"] = test_df2[\"Embarked\"].apply(lambda x: trans_embarked(x))\n",
    "\n",
    "# del two trans variables\n",
    "del train_df2[\"Sex\"]\n",
    "del train_df2[\"Embarked\"]\n",
    "\n",
    "del test_df2[\"Sex\"]\n",
    "del test_df2[\"Embarked\"]\n",
    "\n",
    "# set index\n",
    "train_df2 = train_df2.set_index(\"PassengerId\")\n",
    "test_df2 = test_df2.set_index(\"PassengerId\")\n",
    "\n",
    "train, test = train_test_split(train_df2)\n",
    "\n",
    "y_train2 = train[\"Survived\"]\n",
    "y_test2 = test[\"Survived\"]\n",
    "\n",
    "X_train2 = train\n",
    "del X_train2[\"Survived\"]\n",
    "\n",
    "X_test2 = test\n",
    "del X_test2[\"Survived\"]"
   ]
  },
  {
   "cell_type": "code",
   "execution_count": 128,
   "metadata": {},
   "outputs": [
    {
     "name": "stdout",
     "output_type": "stream",
     "text": [
      "The C: 0.01, the pred_score: 0.6681614349775785\n",
      "Index(['Pclass', 'SibSp', 'Parch', 'Fare', 'gender', 'embarked_code'], dtype='object')\n",
      "coefficient: [-0.4876971273458524, -0.107050689737325, 0.043806017584622145, 0.005944157759511845, 0.46693175334322523, 0.028025041442182395]\n",
      "The C: 0.1, the pred_score: 0.7040358744394619\n",
      "Index(['Pclass', 'SibSp', 'Parch', 'Fare', 'gender', 'embarked_code'], dtype='object')\n",
      "coefficient: [-0.969708438194249, -0.15974740132103502, 0.02638223658496038, 8.462077399709532e-05, 1.6761780988860788, 0.11383362126867813]\n",
      "The C: 1, the pred_score: 0.7668161434977578\n",
      "Index(['Pclass', 'SibSp', 'Parch', 'Fare', 'gender', 'embarked_code'], dtype='object')\n",
      "coefficient: [-1.0092762768524153, -0.20720454540107697, -0.06898990009740717, 0.000648995176315155, 2.5379889546144834, 0.19254741183160867]\n",
      "The C: 10, the pred_score: 0.7713004484304933\n",
      "Index(['Pclass', 'SibSp', 'Parch', 'Fare', 'gender', 'embarked_code'], dtype='object')\n",
      "coefficient: [-0.9716596351736694, -0.2211254976403378, -0.09901996197901665, 0.0014468197579347894, 2.7416946979740167, 0.2280579817803672]\n",
      "The C: 100, the pred_score: 0.7802690582959642\n",
      "Index(['Pclass', 'SibSp', 'Parch', 'Fare', 'gender', 'embarked_code'], dtype='object')\n",
      "coefficient: [-0.9664528767831929, -0.2228888114274378, -0.10256666105057537, 0.0015539058488226974, 2.7658173795975616, 0.2328332951475167]\n"
     ]
    }
   ],
   "source": [
    "# use dataset2\n",
    "C_list = [0.01, 0.1, 1, 10, 100] \n",
    "for c in C_list:\n",
    "    lg = LogisticRegression(C=c, solver=\"liblinear\").fit(X_train2, y_train2)\n",
    "    # y_pred = lg.predict(X_test)\n",
    "    pred_score = lg.score(X_test2, y_test2)\n",
    "    print(\"The C: %s, the pred_score: %s\" % (c, pred_score))\n",
    "    coef_list = lg.coef_.tolist()[0]\n",
    "    print(X_train2.columns)\n",
    "    print(\"coefficient: %s\" % coef_list)"
   ]
  },
  {
   "cell_type": "code",
   "execution_count": 129,
   "metadata": {},
   "outputs": [],
   "source": [
    "### variable age has lots of missing value, delete it\n",
    "\n",
    "## read data\n",
    "train_df3 = pd.read_csv(\"train.csv\")\n",
    "test_df3 = pd.read_csv(\"test.csv\")\n",
    "\n",
    "## clean data\n",
    "# trans string sex to integer\n",
    "train_df3[\"gender\"] = train_df3[\"Sex\"].apply(lambda x: trans_sex(x))\n",
    "test_df3[\"gender\"] = test_df3[\"Sex\"].apply(lambda x: trans_sex(x))\n",
    "\n",
    "# delete variable age\n",
    "del train_df3[\"Age\"]\n",
    "del test_df3[\"Age\"]\n",
    "\n",
    "# fill nan value with 0\n",
    "train_df3 = train_df3.fillna(0)\n",
    "test_df3 = test_df3.fillna(0)\n",
    "\n",
    "# del the Name\n",
    "del train_df3[\"Name\"]\n",
    "del test_df3[\"Name\"]\n",
    "\n",
    "# del the Ticket, because I don't know what is it\n",
    "del train_df3[\"Ticket\"]\n",
    "del test_df3[\"Ticket\"]\n",
    "\n",
    "# del the variable cabin\n",
    "del train_df3[\"Cabin\"]\n",
    "del test_df3[\"Cabin\"]\n",
    "\n",
    "# trans embarked\n",
    "train_df3[\"embarked_code\"] = train_df3[\"Embarked\"].apply(lambda x: trans_embarked(x))\n",
    "test_df3[\"embarked_code\"] = test_df3[\"Embarked\"].apply(lambda x: trans_embarked(x))\n",
    "\n",
    "# del two trans variables\n",
    "del train_df3[\"Sex\"]\n",
    "del train_df3[\"Embarked\"]\n",
    "\n",
    "del test_df3[\"Sex\"]\n",
    "del test_df3[\"Embarked\"]\n",
    "\n",
    "# set index\n",
    "train_df3 = train_df3.set_index(\"PassengerId\")\n",
    "test_df3 = test_df3.set_index(\"PassengerId\")\n",
    "\n",
    "train, test = train_test_split(train_df3)\n",
    "\n",
    "y_train3 = train[\"Survived\"]\n",
    "y_test3 = test[\"Survived\"]\n",
    "\n",
    "X_train3 = train\n",
    "del X_train3[\"Survived\"]\n",
    "\n",
    "X_test3 = test\n",
    "del X_test3[\"Survived\"]"
   ]
  },
  {
   "cell_type": "code",
   "execution_count": 130,
   "metadata": {},
   "outputs": [
    {
     "name": "stdout",
     "output_type": "stream",
     "text": [
      "The C: 0.01, the pred_score: 0.6816143497757847\n",
      "Index(['Pclass', 'SibSp', 'Parch', 'Fare', 'gender', 'embarked_code'], dtype='object')\n",
      "coefficient: [-0.4749571137875458, -0.07958607207848953, 0.0437990336107476, 0.005243905566650402, 0.4468326201699874, 0.01955106226790941]\n",
      "The C: 0.1, the pred_score: 0.7623318385650224\n",
      "Index(['Pclass', 'SibSp', 'Parch', 'Fare', 'gender', 'embarked_code'], dtype='object')\n",
      "coefficient: [-0.898030330308797, -0.14254114407306337, 0.03137394526589099, -2.6548217265589875e-05, 1.6726157496671847, 0.12018922561753195]\n",
      "The C: 1, the pred_score: 0.7668161434977578\n",
      "Index(['Pclass', 'SibSp', 'Parch', 'Fare', 'gender', 'embarked_code'], dtype='object')\n",
      "coefficient: [-0.8678400754208909, -0.21093094208467517, -0.08223681578367036, 0.0012853270069639378, 2.613785807671588, 0.2164574806229227]\n",
      "The C: 10, the pred_score: 0.7668161434977578\n",
      "Index(['Pclass', 'SibSp', 'Parch', 'Fare', 'gender', 'embarked_code'], dtype='object')\n",
      "coefficient: [-0.8126503800312525, -0.23196656410433272, -0.12298021292888722, 0.0023348132609194074, 2.8510260347657828, 0.25612618121111735]\n",
      "The C: 100, the pred_score: 0.7668161434977578\n",
      "Index(['Pclass', 'SibSp', 'Parch', 'Fare', 'gender', 'embarked_code'], dtype='object')\n",
      "coefficient: [-0.8051978837056533, -0.23470693217446864, -0.12821957997107275, 0.002477389414162314, 2.880391587245679, 0.2614054990787037]\n"
     ]
    }
   ],
   "source": [
    "# use dataset3\n",
    "C_list = [0.01, 0.1, 1, 10, 100] \n",
    "for c in C_list:\n",
    "    lg = LogisticRegression(C=c, solver=\"liblinear\").fit(X_train3, y_train3)\n",
    "    # y_pred = lg.predict(X_test)\n",
    "    pred_score = lg.score(X_test3, y_test3)\n",
    "    print(\"The C: %s, the pred_score: %s\" % (c, pred_score))\n",
    "    coef_list = lg.coef_.tolist()[0]\n",
    "    print(X_train2.columns)\n",
    "    print(\"coefficient: %s\" % coef_list)"
   ]
  },
  {
   "cell_type": "code",
   "execution_count": 2,
   "metadata": {},
   "outputs": [],
   "source": [
    "### use transfor categorical data into numerical dataset\n",
    "def dummy(x, value):\n",
    "    if x == value:\n",
    "        return 1\n",
    "    else:\n",
    "        return 0"
   ]
  },
  {
   "cell_type": "code",
   "execution_count": 74,
   "metadata": {},
   "outputs": [
    {
     "name": "stdout",
     "output_type": "stream",
     "text": [
      "<class 'pandas.core.frame.DataFrame'>\n",
      "RangeIndex: 891 entries, 0 to 890\n",
      "Data columns (total 12 columns):\n",
      "PassengerId    891 non-null int64\n",
      "Survived       891 non-null int64\n",
      "Pclass         891 non-null int64\n",
      "Name           891 non-null object\n",
      "Sex            891 non-null object\n",
      "Age            714 non-null float64\n",
      "SibSp          891 non-null int64\n",
      "Parch          891 non-null int64\n",
      "Ticket         891 non-null object\n",
      "Fare           891 non-null float64\n",
      "Cabin          204 non-null object\n",
      "Embarked       889 non-null object\n",
      "dtypes: float64(2), int64(5), object(5)\n",
      "memory usage: 83.6+ KB\n"
     ]
    }
   ],
   "source": [
    "# read data\n",
    "train_df = pd.read_csv(\"train.csv\")\n",
    "test_df = pd.read_csv(\"test.csv\")\n",
    "train_df.info()\n",
    "delete_column_list = []"
   ]
  },
  {
   "cell_type": "code",
   "execution_count": 75,
   "metadata": {},
   "outputs": [],
   "source": [
    "# train_df = train_df.set_index(train_df[\"PassengerId\"])\n",
    "# This method will duplicate column passengerid to index instead of moving column to index\n",
    "train_df = train_df.set_index(\"PassengerId\")"
   ]
  },
  {
   "cell_type": "code",
   "execution_count": 76,
   "metadata": {},
   "outputs": [],
   "source": []
  },
  {
   "cell_type": "code",
   "execution_count": 77,
   "metadata": {},
   "outputs": [
    {
     "name": "stdout",
     "output_type": "stream",
     "text": [
      "male      577\n",
      "female    314\n",
      "Name: Sex, dtype: int64\n",
      "1    577\n",
      "0    314\n",
      "Name: gender_male, dtype: int64\n",
      "0    577\n",
      "1    314\n",
      "Name: gender_female, dtype: int64\n"
     ]
    }
   ],
   "source": [
    "print(train_df[\"Sex\"].value_counts())\n",
    "print(train_df[\"gender_male\"].value_counts())\n",
    "print(train_df[\"gender_female\"].value_counts())\n",
    "delete_column_list.append(\"Sex\")"
   ]
  },
  {
   "cell_type": "code",
   "execution_count": 78,
   "metadata": {},
   "outputs": [
    {
     "name": "stdout",
     "output_type": "stream",
     "text": [
      "S    644\n",
      "C    168\n",
      "Q     77\n",
      "Name: Embarked, dtype: int64\n"
     ]
    }
   ],
   "source": [
    "print(train_df[\"Embarked\"].value_counts())"
   ]
  },
  {
   "cell_type": "code",
   "execution_count": 79,
   "metadata": {},
   "outputs": [],
   "source": [
    "train_df[\"embarked_S\"] = train_df[\"Embarked\"].apply(lambda x: dummy(x, \"S\"))\n",
    "train_df[\"embarked_Q\"] = train_df[\"Embarked\"].apply(lambda x: dummy(x, \"Q\"))\n",
    "train_df[\"embarked_C\"] = train_df[\"Embarked\"].apply(lambda x: dummy(x, \"C\"))\n",
    "train_df[\"embarked_missing\"] = train_df[\"Embarked\"].isna() * 1"
   ]
  },
  {
   "cell_type": "code",
   "execution_count": 80,
   "metadata": {},
   "outputs": [
    {
     "name": "stdout",
     "output_type": "stream",
     "text": [
      "S    644\n",
      "C    168\n",
      "Q     77\n",
      "Name: Embarked, dtype: int64\n",
      "1    644\n",
      "0    247\n",
      "Name: embarked_S, dtype: int64\n",
      "0    814\n",
      "1     77\n",
      "Name: embarked_Q, dtype: int64\n",
      "0    723\n",
      "1    168\n",
      "Name: embarked_C, dtype: int64\n",
      "0    889\n",
      "1      2\n",
      "Name: embarked_missing, dtype: int64\n"
     ]
    }
   ],
   "source": [
    "print(train_df[\"Embarked\"].value_counts())\n",
    "print(train_df[\"embarked_S\"].value_counts())\n",
    "print(train_df[\"embarked_Q\"].value_counts())\n",
    "print(train_df[\"embarked_C\"].value_counts())\n",
    "print(train_df[\"embarked_missing\"].value_counts())\n",
    "delete_column_list.append(\"Embarked\")"
   ]
  },
  {
   "cell_type": "code",
   "execution_count": 81,
   "metadata": {},
   "outputs": [
    {
     "name": "stdout",
     "output_type": "stream",
     "text": [
      "8.0500      43\n",
      "13.0000     42\n",
      "7.8958      38\n",
      "7.7500      34\n",
      "26.0000     31\n",
      "10.5000     24\n",
      "7.9250      18\n",
      "7.7750      16\n",
      "26.5500     15\n",
      "0.0000      15\n",
      "7.2292      15\n",
      "7.8542      13\n",
      "8.6625      13\n",
      "7.2500      13\n",
      "7.2250      12\n",
      "16.1000      9\n",
      "9.5000       9\n",
      "24.1500      8\n",
      "15.5000      8\n",
      "56.4958      7\n",
      "52.0000      7\n",
      "14.5000      7\n",
      "14.4542      7\n",
      "69.5500      7\n",
      "7.0500       7\n",
      "31.2750      7\n",
      "46.9000      6\n",
      "30.0000      6\n",
      "7.7958       6\n",
      "39.6875      6\n",
      "            ..\n",
      "7.1417       1\n",
      "42.4000      1\n",
      "211.5000     1\n",
      "12.2750      1\n",
      "61.1750      1\n",
      "8.4333       1\n",
      "51.4792      1\n",
      "7.8875       1\n",
      "8.6833       1\n",
      "7.5208       1\n",
      "34.6542      1\n",
      "28.7125      1\n",
      "25.5875      1\n",
      "7.7292       1\n",
      "12.2875      1\n",
      "8.6542       1\n",
      "8.7125       1\n",
      "61.3792      1\n",
      "6.9500       1\n",
      "9.8417       1\n",
      "8.3000       1\n",
      "13.7917      1\n",
      "9.4750       1\n",
      "13.4167      1\n",
      "26.3875      1\n",
      "8.4583       1\n",
      "9.8375       1\n",
      "8.3625       1\n",
      "14.1083      1\n",
      "17.4000      1\n",
      "Name: Fare, Length: 248, dtype: int64\n",
      "347082           7\n",
      "CA. 2343         7\n",
      "1601             7\n",
      "CA 2144          6\n",
      "3101295          6\n",
      "347088           6\n",
      "382652           5\n",
      "S.O.C. 14879     5\n",
      "347077           4\n",
      "2666             4\n",
      "113781           4\n",
      "349909           4\n",
      "4133             4\n",
      "19950            4\n",
      "LINE             4\n",
      "17421            4\n",
      "W./C. 6608       4\n",
      "113760           4\n",
      "PC 17757         4\n",
      "110413           3\n",
      "F.C.C. 13529     3\n",
      "347742           3\n",
      "PC 17572         3\n",
      "SC/Paris 2123    3\n",
      "24160            3\n",
      "PC 17755         3\n",
      "363291           3\n",
      "29106            3\n",
      "C.A. 31921       3\n",
      "PC 17582         3\n",
      "                ..\n",
      "28220            1\n",
      "349206           1\n",
      "347085           1\n",
      "C.A. 31026       1\n",
      "A/5 3540         1\n",
      "370373           1\n",
      "2003             1\n",
      "370376           1\n",
      "11752            1\n",
      "2620             1\n",
      "A/5 21172        1\n",
      "A/5 21171        1\n",
      "2650             1\n",
      "347076           1\n",
      "2674             1\n",
      "SC/PARIS 2146    1\n",
      "350035           1\n",
      "112052           1\n",
      "349215           1\n",
      "C.A. 33595       1\n",
      "F.C.C. 13531     1\n",
      "3101265          1\n",
      "5727             1\n",
      "250651           1\n",
      "350047           1\n",
      "347067           1\n",
      "3101276          1\n",
      "14311            1\n",
      "4134             1\n",
      "231945           1\n",
      "Name: Ticket, Length: 681, dtype: int64\n"
     ]
    }
   ],
   "source": [
    "print(train_df[\"Fare\"].value_counts())\n",
    "print(train_df[\"Ticket\"].value_counts())"
   ]
  },
  {
   "cell_type": "code",
   "execution_count": 82,
   "metadata": {},
   "outputs": [],
   "source": [
    "delete_column_list.append(\"Name\")\n"
   ]
  },
  {
   "cell_type": "code",
   "execution_count": 39,
   "metadata": {},
   "outputs": [
    {
     "data": {
      "image/png": "[encoded data removed]",
      "text/plain": [
       "<Figure size 1152x576 with 2 Axes>"
      ]
     },
     "metadata": {},
     "output_type": "display_data"
    }
   ],
   "source": [
    "# survive & age\n",
    "# 用sns做直方图\n",
    "survived = 'survived'\n",
    "not_survived = 'not survived'\n",
    "sns.set(style='darkgrid')\n",
    "fig, axes = plt.subplots(nrows=1, ncols=2, figsize=(16, 8))\n",
    "ax = sns.distplot(train_df[train_df['Survived']==1].Age.dropna(), bins=18, label = survived, ax = axes[0], kde=False, color='green')\n",
    "ax = sns.distplot(train_df[train_df['Survived']==0].Age.dropna(), bins=18, label = not_survived, ax = axes[0], kde=False, color='red')"
   ]
  },
  {
   "cell_type": "code",
   "execution_count": 97,
   "metadata": {},
   "outputs": [
    {
     "data": {
      "image/png": "[encoded data removed]",
      "text/plain": [
       "<Figure size 1152x576 with 2 Axes>"
      ]
     },
     "metadata": {},
     "output_type": "display_data"
    }
   ],
   "source": [
    "# survive & SibSp\n",
    "# 用sns做直方图\n",
    "survived = 'survived'\n",
    "not_survived = 'not survived'\n",
    "sns.set(style='darkgrid')\n",
    "fig, axes = plt.subplots(nrows=1, ncols=2, figsize=(16, 8))\n",
    "ax = sns.distplot(train_df[train_df['Survived']==1].SibSp, bins=18, label = survived, ax = axes[0], kde=False, color='green')\n",
    "ax = sns.distplot(train_df[train_df['Survived']==0].SibSp, bins=18, label = not_survived, ax = axes[0], kde=False, color='red')"
   ]
  },
  {
   "cell_type": "code",
   "execution_count": 98,
   "metadata": {},
   "outputs": [
    {
     "data": {
      "image/png": "[encoded data removed]",
      "text/plain": [
       "<Figure size 1152x576 with 2 Axes>"
      ]
     },
     "metadata": {},
     "output_type": "display_data"
    }
   ],
   "source": [
    "# survive & SibSp\n",
    "# 用sns做直方图\n",
    "survived = 'survived'\n",
    "not_survived = 'not survived'\n",
    "sns.set(style='darkgrid')\n",
    "fig, axes = plt.subplots(nrows=1, ncols=2, figsize=(16, 8))\n",
    "ax = sns.distplot(train_df[train_df['Survived']==1].Parch, bins=18, label = survived, ax = axes[0], kde=False, color='green')\n",
    "ax = sns.distplot(train_df[train_df['Survived']==0].Parch, bins=18, label = not_survived, ax = axes[0], kde=False, color='red')"
   ]
  },
  {
   "cell_type": "code",
   "execution_count": 47,
   "metadata": {},
   "outputs": [
    {
     "data": {
      "text/plain": [
       "Ttest_indResult(statistic=2.06668694625381, pvalue=0.03912465401348249)"
      ]
     },
     "execution_count": 47,
     "metadata": {},
     "output_type": "execute_result"
    }
   ],
   "source": [
    "# ttest about survived and age\n",
    "from scipy.stats import ttest_ind\n",
    "dead = train_df[train_df[\"Survived\"]==0][\"Age\"].dropna()\n",
    "survived = train_df[train_df[\"Survived\"]==1][\"Age\"].dropna()\n",
    "ttest_ind(dead, survived, equal_var=True)"
   ]
  },
  {
   "cell_type": "code",
   "execution_count": 83,
   "metadata": {},
   "outputs": [],
   "source": [
    "\n",
    "\n",
    "train_df[\"trans_age\"] = train_df[\"Age\"].apply(lambda x: trans_age(x))\n",
    "train_df[\"age_0_10\"] = train_df[\"trans_age\"].apply(lambda x: dummy(x, 1))\n",
    "train_df[\"age_11_20\"] = train_df[\"trans_age\"].apply(lambda x: dummy(x, 2))\n",
    "train_df[\"age_21_30\"] = train_df[\"trans_age\"].apply(lambda x: dummy(x, 3))\n",
    "train_df[\"age_31_40\"] = train_df[\"trans_age\"].apply(lambda x: dummy(x, 4))\n",
    "train_df[\"age_41_80\"] = train_df[\"trans_age\"].apply(lambda x: dummy(x, 5))\n",
    "train_df[\"age_missinig\"] = train_df[\"Age\"].isna() * 1"
   ]
  },
  {
   "cell_type": "code",
   "execution_count": 84,
   "metadata": {},
   "outputs": [
    {
     "name": "stdout",
     "output_type": "stream",
     "text": [
      "714\n",
      "0    827\n",
      "1     64\n",
      "Name: age_0_10, dtype: int64\n"
     ]
    }
   ],
   "source": [
    "print(train_df[\"Age\"].count())\n",
    "print(train_df[\"age_0_10\"].value_counts())\n",
    "delete_column_list.append(\"Age\")\n",
    "delete_column_list.append(\"trans_age\")"
   ]
  },
  {
   "cell_type": "code",
   "execution_count": 85,
   "metadata": {},
   "outputs": [
    {
     "name": "stdout",
     "output_type": "stream",
     "text": [
      "3    491\n",
      "1    216\n",
      "2    184\n",
      "Name: Pclass, dtype: int64\n",
      "0    675\n",
      "1    216\n",
      "Name: pclass_1, dtype: int64\n",
      "0    707\n",
      "1    184\n",
      "Name: pclass_2, dtype: int64\n",
      "1    491\n",
      "0    400\n",
      "Name: pclass_3, dtype: int64\n"
     ]
    }
   ],
   "source": [
    "# Explore Pclass\n",
    "print(train_df[\"Pclass\"].value_counts())\n",
    "train_df[\"pclass_1\"] = train_df[\"Pclass\"].apply(lambda x: dummy(x, 1))\n",
    "train_df[\"pclass_2\"] = train_df[\"Pclass\"].apply(lambda x: dummy(x, 2))\n",
    "train_df[\"pclass_3\"] = train_df[\"Pclass\"].apply(lambda x: dummy(x, 3))\n",
    "print(train_df[\"pclass_1\"].value_counts())\n",
    "print(train_df[\"pclass_2\"].value_counts())\n",
    "print(train_df[\"pclass_3\"].value_counts())\n",
    "delete_column_list.append(\"Pclass\")"
   ]
  },
  {
   "cell_type": "code",
   "execution_count": 87,
   "metadata": {},
   "outputs": [],
   "source": [
    "# delete_column_list\n",
    "for col in delete_column_list:\n",
    "    del train_df[col]"
   ]
  },
  {
   "cell_type": "code",
   "execution_count": 88,
   "metadata": {},
   "outputs": [
    {
     "name": "stdout",
     "output_type": "stream",
     "text": [
      "<class 'pandas.core.frame.DataFrame'>\n",
      "Int64Index: 891 entries, 1 to 891\n",
      "Data columns (total 19 columns):\n",
      "Survived            891 non-null int64\n",
      "SibSp               891 non-null int64\n",
      "Parch               891 non-null int64\n",
      "Fare                891 non-null float64\n",
      "gender_male         891 non-null int64\n",
      "gender_female       891 non-null int64\n",
      "embarked_S          891 non-null int64\n",
      "embarked_Q          891 non-null int64\n",
      "embarked_C          891 non-null int64\n",
      "embarked_missing    891 non-null int64\n",
      "age_0_10            891 non-null int64\n",
      "age_11_20           891 non-null int64\n",
      "age_21_30           891 non-null int64\n",
      "age_31_40           891 non-null int64\n",
      "age_41_80           891 non-null int64\n",
      "age_missinig        891 non-null int64\n",
      "pclass_1            891 non-null int64\n",
      "pclass_2            891 non-null int64\n",
      "pclass_3            891 non-null int64\n",
      "dtypes: float64(1), int64(18)\n",
      "memory usage: 139.2 KB\n"
     ]
    }
   ],
   "source": [
    "train_df.info()"
   ]
  },
  {
   "cell_type": "code",
   "execution_count": 89,
   "metadata": {},
   "outputs": [
    {
     "name": "stdout",
     "output_type": "stream",
     "text": [
      "The C: 0.01, the pred_score: 0.7757847533632287\n",
      "Index(['SibSp', 'Parch', 'Fare', 'gender_male', 'gender_female', 'embarked_S',\n",
      "       'embarked_Q', 'embarked_C', 'embarked_missing', 'age_0_10', 'age_11_20',\n",
      "       'age_21_30', 'age_31_40', 'age_41_80', 'age_missinig', 'pclass_1',\n",
      "       'pclass_2', 'pclass_3'],\n",
      "      dtype='object')\n",
      "coefficient: [-0.11894602205743968, -0.04958036342649891, 0.008248550114813616, -0.5408108295573107, 0.4021536398952479, -0.18736901894561603, 0.006305712718382416, 0.03971248249361321, 0.0026936340715566073, 0.11352566447868488, 0.006162016896735833, -0.07854385431899198, -0.005162801858508011, -0.07826193076677189, -0.09637628409321311, 0.07712192906606, 0.040576241776635213, -0.25635536050475904]\n",
      "The C: 0.1, the pred_score: 0.7623318385650224\n",
      "Index(['SibSp', 'Parch', 'Fare', 'gender_male', 'gender_female', 'embarked_S',\n",
      "       'embarked_Q', 'embarked_C', 'embarked_missing', 'age_0_10', 'age_11_20',\n",
      "       'age_21_30', 'age_31_40', 'age_41_80', 'age_missinig', 'pclass_1',\n",
      "       'pclass_2', 'pclass_3'],\n",
      "      dtype='object')\n",
      "coefficient: [-0.22373130342052167, -0.212814799818052, 0.006991443643641371, -1.0778100524370813, 1.1319350663676517, -0.24582924187988636, 0.11868316429096934, 0.1715278255161041, 0.009743266003388599, 0.7499879413327034, 0.08961538093784156, -0.20160422578095805, 0.04576431196411454, -0.29994771411570137, -0.3296906804074287, 0.4180801673987359, 0.17034957321268362, -0.5343047266808514]\n",
      "The C: 1, the pred_score: 0.7713004484304933\n",
      "Index(['SibSp', 'Parch', 'Fare', 'gender_male', 'gender_female', 'embarked_S',\n",
      "       'embarked_Q', 'embarked_C', 'embarked_missing', 'age_0_10', 'age_11_20',\n",
      "       'age_21_30', 'age_31_40', 'age_41_80', 'age_missinig', 'pclass_1',\n",
      "       'pclass_2', 'pclass_3'],\n",
      "      dtype='object')\n",
      "coefficient: [-0.356458295975454, -0.3830201159675676, 0.00553972580442797, -1.2664573976202846, 1.5451422116597606, -0.3061538024236068, 0.3255160532942855, 0.21933249963316848, 0.039990063535656074, 1.7687348851416207, 0.13792858360390897, -0.36166586073632095, 0.01082494082338279, -0.6150328676114816, -0.6621048671816058, 0.7921553603235257, 0.2164780880315142, -0.7299486343155513]\n",
      "The C: 10, the pred_score: 0.7713004484304933\n",
      "Index(['SibSp', 'Parch', 'Fare', 'gender_male', 'gender_female', 'embarked_S',\n",
      "       'embarked_Q', 'embarked_C', 'embarked_missing', 'age_0_10', 'age_11_20',\n",
      "       'age_21_30', 'age_31_40', 'age_41_80', 'age_missinig', 'pclass_1',\n",
      "       'pclass_2', 'pclass_3'],\n",
      "      dtype='object')\n",
      "coefficient: [-0.4055231186285101, -0.43190213927157994, 0.005337792272670942, -1.2860032392923, 1.6558352825508105, -0.38279674649255735, 0.3339052702434308, 0.1644266172167843, 0.25429690229045826, 2.1019538054167963, 0.14534690386788948, -0.4039954849274933, -0.007899385791923152, -0.7033243586682234, -0.7622494366388076, 0.8969537747129055, 0.2337760469644499, -0.7608977784190047]\n",
      "The C: 100, the pred_score: 0.7713004484304933\n",
      "Index(['SibSp', 'Parch', 'Fare', 'gender_male', 'gender_female', 'embarked_S',\n",
      "       'embarked_Q', 'embarked_C', 'embarked_missing', 'age_0_10', 'age_11_20',\n",
      "       'age_21_30', 'age_31_40', 'age_41_80', 'age_missinig', 'pclass_1',\n",
      "       'pclass_2', 'pclass_3'],\n",
      "      dtype='object')\n",
      "coefficient: [-0.41194088032540604, -0.4376459127948453, 0.005315384433660281, -1.2597485241437767, 1.6967825383971709, -0.5041157397023831, 0.22315438601527982, 0.0432587171277617, 0.6747366508129562, 2.1533330207798618, 0.15459597492069563, -0.40082872499926236, -0.0015612304464173914, -0.703652976284699, -0.7648520497165644, 0.928757277316241, 0.2536415409414662, -0.7453648040041293]\n"
     ]
    }
   ],
   "source": [
    "# divide train_df into train and test sets\n",
    "train, test = train_test_split(train_df)\n",
    "y_train = train[\"Survived\"]\n",
    "y_test = test[\"Survived\"]\n",
    "X_train = train\n",
    "del X_train[\"Survived\"]\n",
    "X_test = test\n",
    "del X_test[\"Survived\"]\n"
   ]
  },
  {
   "cell_type": "code",
   "execution_count": 93,
   "metadata": {},
   "outputs": [
    {
     "name": "stdout",
     "output_type": "stream",
     "text": [
      "The train_score: 0.8233532934131736\n",
      "The pred_score: 0.7713004484304933\n"
     ]
    }
   ],
   "source": [
    "# logistic regression\n",
    "lg = LogisticRegression(C=1, solver=\"liblinear\", max_iter=50).fit(X_train, y_train)\n",
    "train_score = lg.score(X_train, y_train)\n",
    "pred_score = lg.score(X_test, y_test)\n",
    "print(\"The train_score: %s\" % train_score)\n",
    "print(\"The pred_score: %s\" % pred_score)\n",
    "# coef_list = lg.coef_.tolist()[0]\n",
    "#    # print(X_train.columns)\n",
    "#     #print(\"coefficient: %s\" % coef_list)"
   ]
  },
  {
   "cell_type": "code",
   "execution_count": 96,
   "metadata": {},
   "outputs": [
    {
     "name": "stdout",
     "output_type": "stream",
     "text": [
      "The estimator is 10, the pred_score is 0.7937219730941704\n",
      "The estimator is 10, the train_score is 0.9416167664670658\n",
      "The estimator is 20, the pred_score is 0.8116591928251121\n",
      "The estimator is 20, the train_score is 0.9520958083832335\n",
      "The estimator is 30, the pred_score is 0.8071748878923767\n",
      "The estimator is 30, the train_score is 0.9565868263473054\n",
      "The estimator is 40, the pred_score is 0.7937219730941704\n",
      "The estimator is 40, the train_score is 0.9550898203592815\n",
      "The estimator is 50, the pred_score is 0.8161434977578476\n",
      "The estimator is 50, the train_score is 0.9565868263473054\n",
      "The estimator is 60, the pred_score is 0.8071748878923767\n",
      "The estimator is 60, the train_score is 0.9565868263473054\n",
      "The estimator is 70, the pred_score is 0.8295964125560538\n",
      "The estimator is 70, the train_score is 0.9550898203592815\n",
      "The estimator is 80, the pred_score is 0.8071748878923767\n",
      "The estimator is 80, the train_score is 0.9565868263473054\n",
      "The estimator is 90, the pred_score is 0.820627802690583\n",
      "The estimator is 90, the train_score is 0.9565868263473054\n",
      "The estimator is 100, the pred_score is 0.8161434977578476\n",
      "The estimator is 100, the train_score is 0.9565868263473054\n",
      "The estimator is 110, the pred_score is 0.8161434977578476\n",
      "The estimator is 110, the train_score is 0.9565868263473054\n",
      "The estimator is 120, the pred_score is 0.8071748878923767\n",
      "The estimator is 120, the train_score is 0.9565868263473054\n",
      "The estimator is 130, the pred_score is 0.820627802690583\n",
      "The estimator is 130, the train_score is 0.9565868263473054\n",
      "The estimator is 140, the pred_score is 0.8161434977578476\n",
      "The estimator is 140, the train_score is 0.9565868263473054\n",
      "The estimator is 150, the pred_score is 0.8071748878923767\n",
      "The estimator is 150, the train_score is 0.9565868263473054\n",
      "The estimator is 160, the pred_score is 0.820627802690583\n",
      "The estimator is 160, the train_score is 0.9565868263473054\n",
      "The estimator is 170, the pred_score is 0.8116591928251121\n",
      "The estimator is 170, the train_score is 0.9565868263473054\n",
      "The estimator is 180, the pred_score is 0.8161434977578476\n",
      "The estimator is 180, the train_score is 0.9565868263473054\n",
      "The estimator is 190, the pred_score is 0.8161434977578476\n",
      "The estimator is 190, the train_score is 0.9565868263473054\n",
      "The estimator is 200, the pred_score is 0.8071748878923767\n",
      "The estimator is 200, the train_score is 0.9565868263473054\n",
      "The estimator is 210, the pred_score is 0.8116591928251121\n",
      "The estimator is 210, the train_score is 0.9565868263473054\n",
      "The estimator is 220, the pred_score is 0.8116591928251121\n",
      "The estimator is 220, the train_score is 0.9565868263473054\n",
      "The estimator is 230, the pred_score is 0.8071748878923767\n",
      "The estimator is 230, the train_score is 0.9565868263473054\n",
      "The estimator is 240, the pred_score is 0.8071748878923767\n",
      "The estimator is 240, the train_score is 0.9565868263473054\n",
      "The estimator is 250, the pred_score is 0.8071748878923767\n",
      "The estimator is 250, the train_score is 0.9565868263473054\n",
      "The estimator is 260, the pred_score is 0.8116591928251121\n",
      "The estimator is 260, the train_score is 0.9565868263473054\n",
      "The estimator is 270, the pred_score is 0.820627802690583\n",
      "The estimator is 270, the train_score is 0.9565868263473054\n",
      "The estimator is 280, the pred_score is 0.8161434977578476\n",
      "The estimator is 280, the train_score is 0.9565868263473054\n",
      "The estimator is 290, the pred_score is 0.8161434977578476\n",
      "The estimator is 290, the train_score is 0.9565868263473054\n",
      "The estimator is 300, the pred_score is 0.8116591928251121\n",
      "The estimator is 300, the train_score is 0.9565868263473054\n",
      "The estimator is 310, the pred_score is 0.8161434977578476\n",
      "The estimator is 310, the train_score is 0.9565868263473054\n",
      "The estimator is 320, the pred_score is 0.8116591928251121\n",
      "The estimator is 320, the train_score is 0.9565868263473054\n",
      "The estimator is 330, the pred_score is 0.8071748878923767\n",
      "The estimator is 330, the train_score is 0.9565868263473054\n",
      "The estimator is 340, the pred_score is 0.8116591928251121\n",
      "The estimator is 340, the train_score is 0.9565868263473054\n",
      "The estimator is 350, the pred_score is 0.8161434977578476\n",
      "The estimator is 350, the train_score is 0.9565868263473054\n",
      "The estimator is 360, the pred_score is 0.8116591928251121\n",
      "The estimator is 360, the train_score is 0.9565868263473054\n",
      "The estimator is 370, the pred_score is 0.8071748878923767\n",
      "The estimator is 370, the train_score is 0.9565868263473054\n",
      "The estimator is 380, the pred_score is 0.8116591928251121\n",
      "The estimator is 380, the train_score is 0.9565868263473054\n",
      "The estimator is 390, the pred_score is 0.8161434977578476\n",
      "The estimator is 390, the train_score is 0.9565868263473054\n",
      "The estimator is 400, the pred_score is 0.8071748878923767\n",
      "The estimator is 400, the train_score is 0.9565868263473054\n",
      "The estimator is 410, the pred_score is 0.8116591928251121\n",
      "The estimator is 410, the train_score is 0.9565868263473054\n",
      "The estimator is 420, the pred_score is 0.8161434977578476\n",
      "The estimator is 420, the train_score is 0.9565868263473054\n",
      "The estimator is 430, the pred_score is 0.8116591928251121\n",
      "The estimator is 430, the train_score is 0.9565868263473054\n",
      "The estimator is 440, the pred_score is 0.820627802690583\n",
      "The estimator is 440, the train_score is 0.9565868263473054\n",
      "The estimator is 450, the pred_score is 0.8161434977578476\n",
      "The estimator is 450, the train_score is 0.9565868263473054\n",
      "The estimator is 460, the pred_score is 0.8161434977578476\n",
      "The estimator is 460, the train_score is 0.9565868263473054\n",
      "The estimator is 470, the pred_score is 0.8071748878923767\n",
      "The estimator is 470, the train_score is 0.9565868263473054\n",
      "The estimator is 480, the pred_score is 0.820627802690583\n",
      "The estimator is 480, the train_score is 0.9565868263473054\n",
      "The estimator is 490, the pred_score is 0.8161434977578476\n",
      "The estimator is 490, the train_score is 0.9565868263473054\n",
      "The estimator is 500, the pred_score is 0.8161434977578476\n",
      "The estimator is 500, the train_score is 0.9565868263473054\n"
     ]
    }
   ],
   "source": [
    "# random forest\n",
    "for e in range(10, 501, 10):\n",
    "    randomTree = RandomForestClassifier(n_estimators=e).fit(X_train, y_train)\n",
    "    pred_score = randomTree.score(X_test, y_test)\n",
    "    train_score = randomTree.score(X_train, y_train)\n",
    "    print(\"The estimator is %s, the pred_score is %s\" % (e, pred_score))\n",
    "    print(\"The estimator is %s, the train_score is %s\" % (e, train_score))"
   ]
  },
  {
   "cell_type": "code",
   "execution_count": null,
   "metadata": {},
   "outputs": [],
   "source": [
    " "
   ]
  },
  {
   "cell_type": "code",
   "execution_count": 123,
   "metadata": {},
   "outputs": [],
   "source": [
    "# deal with test.csv\n",
    "test_df = pd.read_csv(\"test.csv\")\n",
    "delete_column_list = []\n",
    "test_df = test_df.set_index(\"PassengerId\")\n",
    "\n",
    "test_df[\"gender_male\"] = test_df[\"Sex\"].apply(lambda x: dummy(x, \"male\"))\n",
    "test_df[\"gender_female\"] = test_df[\"Sex\"].apply(lambda x: dummy(x, \"female\"))\n",
    "delete_column_list.append(\"Sex\")\n",
    "\n",
    "test_df[\"embarked_S\"] = test_df[\"Embarked\"].apply(lambda x: dummy(x, \"S\"))\n",
    "test_df[\"embarked_Q\"] = test_df[\"Embarked\"].apply(lambda x: dummy(x, \"Q\"))\n",
    "test_df[\"embarked_C\"] = test_df[\"Embarked\"].apply(lambda x: dummy(x, \"C\"))\n",
    "test_df[\"embarked_missing\"] = test_df[\"Embarked\"].isna() * 1\n",
    "delete_column_list.append(\"Embarked\")\n",
    "\n",
    "test_df[\"trans_age\"] = test_df[\"Age\"].apply(lambda x: trans_age(x))\n",
    "test_df[\"age_0_10\"] = test_df[\"trans_age\"].apply(lambda x: dummy(x, 1))\n",
    "test_df[\"age_11_20\"] = test_df[\"trans_age\"].apply(lambda x: dummy(x, 2))\n",
    "test_df[\"age_21_30\"] = test_df[\"trans_age\"].apply(lambda x: dummy(x, 3))\n",
    "test_df[\"age_31_40\"] = test_df[\"trans_age\"].apply(lambda x: dummy(x, 4))\n",
    "test_df[\"age_41_80\"] = test_df[\"trans_age\"].apply(lambda x: dummy(x, 5))\n",
    "test_df[\"age_missinig\"] = test_df[\"Age\"].isna() * 1\n",
    "delete_column_list.append(\"Age\")\n",
    "delete_column_list.append(\"trans_age\")\n",
    "\n",
    "test_df[\"pclass_1\"] = test_df[\"Pclass\"].apply(lambda x: dummy(x, 1))\n",
    "test_df[\"pclass_2\"] = test_df[\"Pclass\"].apply(lambda x: dummy(x, 2))\n",
    "test_df[\"pclass_3\"] = test_df[\"Pclass\"].apply(lambda x: dummy(x, 3))\n",
    "delete_column_list.append(\"Pclass\")\n",
    "\n",
    "delete_column_list.append(\"Name\")\n",
    "delete_column_list.append(\"Ticket\")\n",
    "delete_column_list.append(\"Cabin\")"
   ]
  },
  {
   "cell_type": "code",
   "execution_count": 119,
   "metadata": {},
   "outputs": [
    {
     "name": "stdout",
     "output_type": "stream",
     "text": [
      "<class 'pandas.core.frame.DataFrame'>\n",
      "Int64Index: 418 entries, 892 to 1309\n",
      "Data columns (total 22 columns):\n",
      "Pclass              418 non-null int64\n",
      "Name                418 non-null object\n",
      "SibSp               418 non-null int64\n",
      "Parch               418 non-null int64\n",
      "Ticket              418 non-null object\n",
      "Fare                417 non-null float64\n",
      "Cabin               91 non-null object\n",
      "gender_male         418 non-null int64\n",
      "gender_female       418 non-null int64\n",
      "embarked_S          418 non-null int64\n",
      "embarked_Q          418 non-null int64\n",
      "embarked_C          418 non-null int64\n",
      "embarked_missing    418 non-null int64\n",
      "age_0_10            418 non-null int64\n",
      "age_11_20           418 non-null int64\n",
      "age_21_30           418 non-null int64\n",
      "age_31_40           418 non-null int64\n",
      "age_41_80           418 non-null int64\n",
      "age_missinig        418 non-null int64\n",
      "pclass_1            418 non-null int64\n",
      "pclass_2            418 non-null int64\n",
      "pclass_3            418 non-null int64\n",
      "dtypes: float64(1), int64(18), object(3)\n",
      "memory usage: 75.1+ KB\n"
     ]
    }
   ],
   "source": [
    "test_df.info()"
   ]
  },
  {
   "cell_type": "code",
   "execution_count": 124,
   "metadata": {},
   "outputs": [],
   "source": [
    "for col in delete_column_list:\n",
    "    del test_df[col]"
   ]
  },
  {
   "cell_type": "code",
   "execution_count": 125,
   "metadata": {},
   "outputs": [
    {
     "name": "stdout",
     "output_type": "stream",
     "text": [
      "<class 'pandas.core.frame.DataFrame'>\n",
      "Int64Index: 418 entries, 892 to 1309\n",
      "Data columns (total 18 columns):\n",
      "SibSp               418 non-null int64\n",
      "Parch               418 non-null int64\n",
      "Fare                417 non-null float64\n",
      "gender_male         418 non-null int64\n",
      "gender_female       418 non-null int64\n",
      "embarked_S          418 non-null int64\n",
      "embarked_Q          418 non-null int64\n",
      "embarked_C          418 non-null int64\n",
      "embarked_missing    418 non-null int64\n",
      "age_0_10            418 non-null int64\n",
      "age_11_20           418 non-null int64\n",
      "age_21_30           418 non-null int64\n",
      "age_31_40           418 non-null int64\n",
      "age_41_80           418 non-null int64\n",
      "age_missinig        418 non-null int64\n",
      "pclass_1            418 non-null int64\n",
      "pclass_2            418 non-null int64\n",
      "pclass_3            418 non-null int64\n",
      "dtypes: float64(1), int64(17)\n",
      "memory usage: 62.0 KB\n",
      "None\n",
      "<class 'pandas.core.frame.DataFrame'>\n",
      "Int64Index: 891 entries, 1 to 891\n",
      "Data columns (total 19 columns):\n",
      "Survived            891 non-null int64\n",
      "SibSp               891 non-null int64\n",
      "Parch               891 non-null int64\n",
      "Fare                891 non-null float64\n",
      "gender_male         891 non-null int64\n",
      "gender_female       891 non-null int64\n",
      "embarked_S          891 non-null int64\n",
      "embarked_Q          891 non-null int64\n",
      "embarked_C          891 non-null int64\n",
      "embarked_missing    891 non-null int64\n",
      "age_0_10            891 non-null int64\n",
      "age_11_20           891 non-null int64\n",
      "age_21_30           891 non-null int64\n",
      "age_31_40           891 non-null int64\n",
      "age_41_80           891 non-null int64\n",
      "age_missinig        891 non-null int64\n",
      "pclass_1            891 non-null int64\n",
      "pclass_2            891 non-null int64\n",
      "pclass_3            891 non-null int64\n",
      "dtypes: float64(1), int64(18)\n",
      "memory usage: 139.2 KB\n",
      "None\n"
     ]
    }
   ],
   "source": [
    "print(test_df.info())\n",
    "print(train_df.info())"
   ]
  },
  {
   "cell_type": "code",
   "execution_count": 128,
   "metadata": {},
   "outputs": [],
   "source": [
    "test_df = test_df.fillna(0)"
   ]
  },
  {
   "cell_type": "code",
   "execution_count": 129,
   "metadata": {},
   "outputs": [],
   "source": [
    "result = randomTree.predict(test_df)"
   ]
  },
  {
   "cell_type": "code",
   "execution_count": 130,
   "metadata": {},
   "outputs": [
    {
     "data": {
      "text/plain": [
       "array([0, 0, 0, 0, 0, 0, 0, 0, 1, 0, 0, 0, 1, 0, 1, 1, 0, 0, 1, 1, 1, 1,\n",
       "       1, 1, 1, 0, 1, 0, 0, 0, 0, 0, 0, 0, 1, 1, 0, 0, 0, 0, 0, 0, 0, 1,\n",
       "       1, 0, 0, 0, 1, 0, 0, 0, 1, 1, 1, 0, 0, 0, 0, 1, 0, 0, 0, 1, 0, 1,\n",
       "       1, 0, 0, 1, 1, 0, 1, 1, 1, 0, 0, 1, 0, 1, 1, 0, 0, 0, 0, 0, 1, 0,\n",
       "       1, 1, 1, 0, 1, 0, 1, 0, 1, 0, 0, 0, 1, 0, 0, 0, 1, 0, 1, 0, 0, 0,\n",
       "       0, 1, 1, 0, 1, 1, 0, 1, 0, 1, 1, 0, 1, 0, 0, 1, 0, 1, 0, 0, 0, 0,\n",
       "       0, 0, 0, 0, 0, 0, 1, 0, 0, 1, 0, 0, 0, 0, 0, 0, 0, 0, 1, 0, 0, 1,\n",
       "       0, 0, 1, 1, 0, 0, 1, 1, 1, 0, 0, 0, 0, 0, 1, 0, 0, 0, 0, 0, 0, 1,\n",
       "       1, 1, 1, 1, 0, 0, 1, 0, 1, 0, 1, 0, 0, 0, 0, 0, 0, 0, 1, 1, 1, 0,\n",
       "       0, 0, 1, 1, 0, 1, 0, 0, 1, 0, 1, 0, 0, 0, 0, 1, 1, 0, 1, 0, 1, 0,\n",
       "       1, 0, 1, 0, 1, 0, 0, 1, 0, 0, 0, 1, 0, 0, 0, 0, 1, 1, 1, 1, 1, 1,\n",
       "       0, 0, 0, 0, 1, 0, 1, 0, 1, 0, 0, 0, 0, 0, 0, 0, 1, 0, 0, 0, 1, 1,\n",
       "       0, 0, 0, 0, 0, 0, 0, 0, 1, 1, 0, 1, 0, 0, 0, 0, 0, 1, 1, 0, 1, 0,\n",
       "       0, 0, 0, 0, 0, 0, 0, 0, 0, 0, 1, 0, 0, 0, 0, 1, 0, 0, 1, 1, 0, 1,\n",
       "       0, 0, 0, 0, 0, 1, 1, 1, 0, 0, 0, 0, 0, 0, 0, 1, 1, 0, 1, 0, 0, 0,\n",
       "       1, 1, 0, 1, 0, 0, 0, 0, 0, 0, 0, 0, 0, 1, 0, 0, 0, 1, 0, 1, 1, 0,\n",
       "       0, 0, 0, 0, 1, 0, 0, 1, 0, 1, 1, 0, 1, 0, 0, 0, 1, 0, 0, 1, 0, 0,\n",
       "       1, 1, 0, 0, 0, 0, 0, 1, 0, 0, 0, 1, 0, 0, 1, 0, 0, 1, 0, 0, 0, 1,\n",
       "       0, 1, 0, 0, 1, 0, 1, 0, 0, 0, 0, 0, 1, 1, 1, 1, 1, 0, 1, 0, 0, 0])"
      ]
     },
     "execution_count": 130,
     "metadata": {},
     "output_type": "execute_result"
    }
   ],
   "source": [
    "result"
   ]
  },
  {
   "cell_type": "code",
   "execution_count": 131,
   "metadata": {},
   "outputs": [
    {
     "data": {
      "text/plain": [
       "Int64Index([ 892,  893,  894,  895,  896,  897,  898,  899,  900,  901,\n",
       "            ...\n",
       "            1300, 1301, 1302, 1303, 1304, 1305, 1306, 1307, 1308, 1309],\n",
       "           dtype='int64', name='PassengerId', length=418)"
      ]
     },
     "execution_count": 131,
     "metadata": {},
     "output_type": "execute_result"
    }
   ],
   "source": [
    "test_df.index"
   ]
  },
  {
   "cell_type": "code",
   "execution_count": 136,
   "metadata": {},
   "outputs": [],
   "source": [
    "sub = pd.DataFrame(result, test_df.index)"
   ]
  },
  {
   "cell_type": "code",
   "execution_count": 138,
   "metadata": {},
   "outputs": [],
   "source": [
    "sub.to_csv(\"submission.csv\")"
   ]
  },
  {
   "cell_type": "code",
   "execution_count": null,
   "metadata": {},
   "outputs": [],
   "source": []
  }
 ],
 "metadata": {
  "kernelspec": {
   "display_name": "Python 3",
   "language": "python",
   "name": "python3"
  },
  "language_info": {
   "codemirror_mode": {
    "name": "ipython",
    "version": 3
   },
   "file_extension": ".py",
   "mimetype": "text/x-python",
   "name": "python",
   "nbconvert_exporter": "python",
   "pygments_lexer": "ipython3",
   "version": "3.6.8"
  }
 },
 "nbformat": 4,
 "nbformat_minor": 2
}
