{
 "cells": [
  {
   "cell_type": "code",
   "execution_count": 1,
   "metadata": {},
   "outputs": [],
   "source": [
    "import numpy as np # linear algebra\n",
    "import pandas as pd # data processing, CSV file I/O (e.g. pd.read_csv)\n",
    "\n",
    "# Input data files are available in the \"../input/\" directory.\n",
    "# For example, running this (by clicking run or pressing Shift+Enter) will list the files in the input directory\n",
    "\n",
    "import os\n",
    "import sklearn\n",
    "\n",
    "import seaborn as sns\n",
    "import matplotlib.pyplot as plt\n",
    "\n",
    "# import sklearn libraries\n",
    "from sklearn.model_selection import train_test_split\n",
    "from sklearn.tree import DecisionTreeClassifier"
   ]
  },
  {
   "cell_type": "code",
   "execution_count": 2,
   "metadata": {},
   "outputs": [],
   "source": [
    "# static module\n",
    "# import scipy\n",
    "# from statsmodels.formula.api import ols\n",
    "# from statsmodels.stats.anova import anova_lm\n",
    "# from statsmodels.stats.multicomp import pairwise_tukeyhsd\n",
    "# import itertools\n",
    "# import warnings \n",
    "# warnings.filterwarnings(\"ignore\")"
   ]
  },
  {
   "cell_type": "code",
   "execution_count": 3,
   "metadata": {},
   "outputs": [
    {
     "data": {
      "text/plain": [
       "'0.20.3'"
      ]
     },
     "execution_count": 3,
     "metadata": {},
     "output_type": "execute_result"
    }
   ],
   "source": [
    "sklearn.__version__"
   ]
  },
  {
   "cell_type": "code",
   "execution_count": 5,
   "metadata": {},
   "outputs": [
    {
     "name": "stdout",
     "output_type": "stream",
     "text": [
      "<class 'pandas.core.frame.DataFrame'>\n",
      "RangeIndex: 891 entries, 0 to 890\n",
      "Data columns (total 12 columns):\n",
      "PassengerId    891 non-null int64\n",
      "Survived       891 non-null int64\n",
      "Pclass         891 non-null int64\n",
      "Name           891 non-null object\n",
      "Sex            891 non-null object\n",
      "Age            714 non-null float64\n",
      "SibSp          891 non-null int64\n",
      "Parch          891 non-null int64\n",
      "Ticket         891 non-null object\n",
      "Fare           891 non-null float64\n",
      "Cabin          204 non-null object\n",
      "Embarked       889 non-null object\n",
      "dtypes: float64(2), int64(5), object(5)\n",
      "memory usage: 83.6+ KB\n",
      "<class 'pandas.core.frame.DataFrame'>\n",
      "RangeIndex: 418 entries, 0 to 417\n",
      "Data columns (total 11 columns):\n",
      "PassengerId    418 non-null int64\n",
      "Pclass         418 non-null int64\n",
      "Name           418 non-null object\n",
      "Sex            418 non-null object\n",
      "Age            332 non-null float64\n",
      "SibSp          418 non-null int64\n",
      "Parch          418 non-null int64\n",
      "Ticket         418 non-null object\n",
      "Fare           417 non-null float64\n",
      "Cabin          91 non-null object\n",
      "Embarked       418 non-null object\n",
      "dtypes: float64(2), int64(4), object(5)\n",
      "memory usage: 36.0+ KB\n"
     ]
    }
   ],
   "source": [
    "train_df = pd.read_csv(\"train.csv\")\n",
    "test_df = pd.read_csv(\"test.csv\")\n",
    "train_df.info()\n",
    "test_df.info()"
   ]
  },
  {
   "cell_type": "code",
   "execution_count": 6,
   "metadata": {},
   "outputs": [],
   "source": [
    "# clean data\n",
    "\n",
    "# trans string sex to integer\n",
    "def trans_sex(sex):\n",
    "    if sex == \"male\":\n",
    "        return 1\n",
    "    else:\n",
    "        return 2\n",
    "train_df[\"gender\"] = train_df[\"Sex\"].apply(lambda x: trans_sex(x))\n",
    "test_df[\"gender\"] = test_df[\"Sex\"].apply(lambda x: trans_sex(x))\n",
    "# print(train_df[\"gender\"])\n",
    "\n",
    "# del the Name\n",
    "del train_df[\"Name\"]\n",
    "del test_df[\"Name\"]\n",
    "\n",
    "# del the Ticket, because I don't know what is it\n",
    "del train_df[\"Ticket\"]\n",
    "del test_df[\"Ticket\"]\n",
    "\n",
    "# del the variable cabin\n",
    "del train_df[\"Cabin\"]\n",
    "del test_df[\"Cabin\"]\n",
    "\n",
    "# trans embarked\n",
    "def trans_embarked(embarked):\n",
    "    if embarked == \"S\":\n",
    "        return 1\n",
    "    elif embarked == \"C\":\n",
    "        return 2\n",
    "    else:\n",
    "        return 3\n",
    "\n",
    "train_df[\"embarked_code\"] = train_df[\"Embarked\"].apply(lambda x: trans_embarked(x))\n",
    "test_df[\"embarked_code\"] = test_df[\"Embarked\"].apply(lambda x: trans_embarked(x))\n",
    "\n",
    "# del two trans variables\n",
    "del train_df[\"Sex\"]\n",
    "del train_df[\"Embarked\"]\n",
    "\n",
    "del test_df[\"Sex\"]\n",
    "del test_df[\"Embarked\"]"
   ]
  },
  {
   "cell_type": "code",
   "execution_count": 7,
   "metadata": {},
   "outputs": [],
   "source": [
    "# set index\n",
    "train_df = train_df.set_index(\"PassengerId\")\n",
    "test_df = test_df.set_index(\"PassengerId\")"
   ]
  },
  {
   "cell_type": "code",
   "execution_count": 8,
   "metadata": {},
   "outputs": [
    {
     "name": "stdout",
     "output_type": "stream",
     "text": [
      "<class 'pandas.core.frame.DataFrame'>\n",
      "Int64Index: 891 entries, 1 to 891\n",
      "Data columns (total 8 columns):\n",
      "Survived         891 non-null int64\n",
      "Pclass           891 non-null int64\n",
      "Age              714 non-null float64\n",
      "SibSp            891 non-null int64\n",
      "Parch            891 non-null int64\n",
      "Fare             891 non-null float64\n",
      "gender           891 non-null int64\n",
      "embarked_code    891 non-null int64\n",
      "dtypes: float64(2), int64(6)\n",
      "memory usage: 62.6 KB\n",
      "<class 'pandas.core.frame.DataFrame'>\n",
      "Int64Index: 418 entries, 892 to 1309\n",
      "Data columns (total 7 columns):\n",
      "Pclass           418 non-null int64\n",
      "Age              332 non-null float64\n",
      "SibSp            418 non-null int64\n",
      "Parch            418 non-null int64\n",
      "Fare             417 non-null float64\n",
      "gender           418 non-null int64\n",
      "embarked_code    418 non-null int64\n",
      "dtypes: float64(2), int64(5)\n",
      "memory usage: 26.1 KB\n"
     ]
    }
   ],
   "source": [
    "train_df.info()\n",
    "test_df.info()"
   ]
  },
  {
   "cell_type": "code",
   "execution_count": 9,
   "metadata": {},
   "outputs": [],
   "source": [
    "# fill nan value\n",
    "train_df = train_df.fillna(99)\n",
    "test_df =test_df.fillna(99)"
   ]
  },
  {
   "cell_type": "code",
   "execution_count": 10,
   "metadata": {},
   "outputs": [],
   "source": [
    "train, test = train_test_split(train_df)"
   ]
  },
  {
   "cell_type": "code",
   "execution_count": 11,
   "metadata": {},
   "outputs": [],
   "source": [
    "y_train = train[\"Survived\"]\n",
    "y_test = test[\"Survived\"]\n",
    "\n",
    "X_train = train\n",
    "del X_train[\"Survived\"]\n",
    "\n",
    "X_test = test\n",
    "del X_test[\"Survived\"]"
   ]
  },
  {
   "cell_type": "code",
   "execution_count": 14,
   "metadata": {},
   "outputs": [
    {
     "name": "stdout",
     "output_type": "stream",
     "text": [
      "The pred_score is 0.7668161434977578\n"
     ]
    }
   ],
   "source": [
    "### decision tree classifier\n",
    "# default parameter\n",
    "\n",
    "tree = DecisionTreeClassifier().fit(X_train, y_train)\n",
    "\n",
    "pred_score = tree.score(X_test, y_test)\n",
    "print(\"The pred_score is %s\" % pred_score)"
   ]
  },
  {
   "cell_type": "code",
   "execution_count": 20,
   "metadata": {},
   "outputs": [
    {
     "name": "stdout",
     "output_type": "stream",
     "text": [
      "<class 'pandas.core.frame.DataFrame'>\n",
      "Int64Index: 668 entries, 109 to 829\n",
      "Data columns (total 7 columns):\n",
      "Pclass           668 non-null int64\n",
      "Age              668 non-null float64\n",
      "SibSp            668 non-null int64\n",
      "Parch            668 non-null int64\n",
      "Fare             668 non-null float64\n",
      "gender           668 non-null int64\n",
      "embarked_code    668 non-null int64\n",
      "dtypes: float64(2), int64(5)\n",
      "memory usage: 41.8 KB\n"
     ]
    },
    {
     "data": {
      "text/plain": [
       "array([0.11202924, 0.24332997, 0.03657071, 0.02775172, 0.26350775,\n",
       "       0.28709852, 0.02971209])"
      ]
     },
     "execution_count": 20,
     "metadata": {},
     "output_type": "execute_result"
    }
   ],
   "source": [
    "X_train.info()\n",
    "tree.feature_importances_"
   ]
  }
 ],
 "metadata": {
  "kernelspec": {
   "display_name": "Python 3",
   "language": "python",
   "name": "python3"
  },
  "language_info": {
   "codemirror_mode": {
    "name": "ipython",
    "version": 3
   },
   "file_extension": ".py",
   "mimetype": "text/x-python",
   "name": "python",
   "nbconvert_exporter": "python",
   "pygments_lexer": "ipython3",
   "version": "3.6.8"
  }
 },
 "nbformat": 4,
 "nbformat_minor": 2
}
